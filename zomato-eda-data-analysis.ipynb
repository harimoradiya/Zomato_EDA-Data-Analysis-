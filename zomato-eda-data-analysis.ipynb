{
 "cells": [
  {
   "cell_type": "code",
   "execution_count": 1,
   "id": "6ee098f3",
   "metadata": {
    "_cell_guid": "b1076dfc-b9ad-4769-8c92-a6c4dae69d19",
    "_uuid": "8f2839f25d086af736a60e9eeb907d3b93b6e0e5",
    "execution": {
     "iopub.execute_input": "2022-09-17T06:57:11.362381Z",
     "iopub.status.busy": "2022-09-17T06:57:11.361346Z",
     "iopub.status.idle": "2022-09-17T06:57:11.383770Z",
     "shell.execute_reply": "2022-09-17T06:57:11.382655Z"
    },
    "papermill": {
     "duration": 0.04215,
     "end_time": "2022-09-17T06:57:11.386718",
     "exception": false,
     "start_time": "2022-09-17T06:57:11.344568",
     "status": "completed"
    },
    "tags": []
   },
   "outputs": [
    {
     "name": "stdout",
     "output_type": "stream",
     "text": [
      "/kaggle/input/zomato-eda/zomato.csv\n"
     ]
    }
   ],
   "source": [
    "# This Python 3 environment comes with many helpful analytics libraries installed\n",
    "# It is defined by the kaggle/python Docker image: https://github.com/kaggle/docker-python\n",
    "# For example, here's several helpful packages to load\n",
    "\n",
    "import numpy as np # linear algebra\n",
    "import pandas as pd # data processing, CSV file I/O (e.g. pd.read_csv)\n",
    "\n",
    "# Input data files are available in the read-only \"../input/\" directory\n",
    "# For example, running this (by clicking run or pressing Shift+Enter) will list all files under the input directory\n",
    "\n",
    "import os\n",
    "for dirname, _, filenames in os.walk('/kaggle/input'):\n",
    "    for filename in filenames:\n",
    "        print(os.path.join(dirname, filename))\n",
    "\n",
    "# You can write up to 20GB to the current directory (/kaggle/working/) that gets preserved as output when you create a version using \"Save & Run All\" \n",
    "# You can also write temporary files to /kaggle/temp/, but they won't be saved outside of the current session"
   ]
  },
  {
   "cell_type": "markdown",
   "id": "23b990dc",
   "metadata": {
    "papermill": {
     "duration": 0.012844,
     "end_time": "2022-09-17T06:57:11.414182",
     "exception": false,
     "start_time": "2022-09-17T06:57:11.401338",
     "status": "completed"
    },
    "tags": []
   },
   "source": [
    "**Read Dataset**"
   ]
  },
  {
   "cell_type": "code",
   "execution_count": 2,
   "id": "571f361c",
   "metadata": {
    "execution": {
     "iopub.execute_input": "2022-09-17T06:57:11.444486Z",
     "iopub.status.busy": "2022-09-17T06:57:11.444046Z",
     "iopub.status.idle": "2022-09-17T06:57:24.290232Z",
     "shell.execute_reply": "2022-09-17T06:57:24.288824Z"
    },
    "papermill": {
     "duration": 12.864387,
     "end_time": "2022-09-17T06:57:24.293564",
     "exception": false,
     "start_time": "2022-09-17T06:57:11.429177",
     "status": "completed"
    },
    "tags": []
   },
   "outputs": [
    {
     "data": {
      "text/html": [
       "<div>\n",
       "<style scoped>\n",
       "    .dataframe tbody tr th:only-of-type {\n",
       "        vertical-align: middle;\n",
       "    }\n",
       "\n",
       "    .dataframe tbody tr th {\n",
       "        vertical-align: top;\n",
       "    }\n",
       "\n",
       "    .dataframe thead th {\n",
       "        text-align: right;\n",
       "    }\n",
       "</style>\n",
       "<table border=\"1\" class=\"dataframe\">\n",
       "  <thead>\n",
       "    <tr style=\"text-align: right;\">\n",
       "      <th></th>\n",
       "      <th>url</th>\n",
       "      <th>address</th>\n",
       "      <th>name</th>\n",
       "      <th>online_order</th>\n",
       "      <th>book_table</th>\n",
       "      <th>rate</th>\n",
       "      <th>votes</th>\n",
       "      <th>phone</th>\n",
       "      <th>location</th>\n",
       "      <th>rest_type</th>\n",
       "      <th>dish_liked</th>\n",
       "      <th>cuisines</th>\n",
       "      <th>approx_cost(for two people)</th>\n",
       "      <th>reviews_list</th>\n",
       "      <th>menu_item</th>\n",
       "      <th>listed_in(type)</th>\n",
       "      <th>listed_in(city)</th>\n",
       "    </tr>\n",
       "  </thead>\n",
       "  <tbody>\n",
       "    <tr>\n",
       "      <th>0</th>\n",
       "      <td>https://www.zomato.com/bangalore/jalsa-banasha...</td>\n",
       "      <td>942, 21st Main Road, 2nd Stage, Banashankari, ...</td>\n",
       "      <td>Jalsa</td>\n",
       "      <td>Yes</td>\n",
       "      <td>Yes</td>\n",
       "      <td>4.1/5</td>\n",
       "      <td>775</td>\n",
       "      <td>080 42297555\\r\\n+91 9743772233</td>\n",
       "      <td>Banashankari</td>\n",
       "      <td>Casual Dining</td>\n",
       "      <td>Pasta, Lunch Buffet, Masala Papad, Paneer Laja...</td>\n",
       "      <td>North Indian, Mughlai, Chinese</td>\n",
       "      <td>800</td>\n",
       "      <td>[('Rated 4.0', 'RATED\\n  A beautiful place to ...</td>\n",
       "      <td>[]</td>\n",
       "      <td>Buffet</td>\n",
       "      <td>Banashankari</td>\n",
       "    </tr>\n",
       "    <tr>\n",
       "      <th>1</th>\n",
       "      <td>https://www.zomato.com/bangalore/spice-elephan...</td>\n",
       "      <td>2nd Floor, 80 Feet Road, Near Big Bazaar, 6th ...</td>\n",
       "      <td>Spice Elephant</td>\n",
       "      <td>Yes</td>\n",
       "      <td>No</td>\n",
       "      <td>4.1/5</td>\n",
       "      <td>787</td>\n",
       "      <td>080 41714161</td>\n",
       "      <td>Banashankari</td>\n",
       "      <td>Casual Dining</td>\n",
       "      <td>Momos, Lunch Buffet, Chocolate Nirvana, Thai G...</td>\n",
       "      <td>Chinese, North Indian, Thai</td>\n",
       "      <td>800</td>\n",
       "      <td>[('Rated 4.0', 'RATED\\n  Had been here for din...</td>\n",
       "      <td>[]</td>\n",
       "      <td>Buffet</td>\n",
       "      <td>Banashankari</td>\n",
       "    </tr>\n",
       "    <tr>\n",
       "      <th>2</th>\n",
       "      <td>https://www.zomato.com/SanchurroBangalore?cont...</td>\n",
       "      <td>1112, Next to KIMS Medical College, 17th Cross...</td>\n",
       "      <td>San Churro Cafe</td>\n",
       "      <td>Yes</td>\n",
       "      <td>No</td>\n",
       "      <td>3.8/5</td>\n",
       "      <td>918</td>\n",
       "      <td>+91 9663487993</td>\n",
       "      <td>Banashankari</td>\n",
       "      <td>Cafe, Casual Dining</td>\n",
       "      <td>Churros, Cannelloni, Minestrone Soup, Hot Choc...</td>\n",
       "      <td>Cafe, Mexican, Italian</td>\n",
       "      <td>800</td>\n",
       "      <td>[('Rated 3.0', \"RATED\\n  Ambience is not that ...</td>\n",
       "      <td>[]</td>\n",
       "      <td>Buffet</td>\n",
       "      <td>Banashankari</td>\n",
       "    </tr>\n",
       "    <tr>\n",
       "      <th>3</th>\n",
       "      <td>https://www.zomato.com/bangalore/addhuri-udupi...</td>\n",
       "      <td>1st Floor, Annakuteera, 3rd Stage, Banashankar...</td>\n",
       "      <td>Addhuri Udupi Bhojana</td>\n",
       "      <td>No</td>\n",
       "      <td>No</td>\n",
       "      <td>3.7/5</td>\n",
       "      <td>88</td>\n",
       "      <td>+91 9620009302</td>\n",
       "      <td>Banashankari</td>\n",
       "      <td>Quick Bites</td>\n",
       "      <td>Masala Dosa</td>\n",
       "      <td>South Indian, North Indian</td>\n",
       "      <td>300</td>\n",
       "      <td>[('Rated 4.0', \"RATED\\n  Great food and proper...</td>\n",
       "      <td>[]</td>\n",
       "      <td>Buffet</td>\n",
       "      <td>Banashankari</td>\n",
       "    </tr>\n",
       "    <tr>\n",
       "      <th>4</th>\n",
       "      <td>https://www.zomato.com/bangalore/grand-village...</td>\n",
       "      <td>10, 3rd Floor, Lakshmi Associates, Gandhi Baza...</td>\n",
       "      <td>Grand Village</td>\n",
       "      <td>No</td>\n",
       "      <td>No</td>\n",
       "      <td>3.8/5</td>\n",
       "      <td>166</td>\n",
       "      <td>+91 8026612447\\r\\n+91 9901210005</td>\n",
       "      <td>Basavanagudi</td>\n",
       "      <td>Casual Dining</td>\n",
       "      <td>Panipuri, Gol Gappe</td>\n",
       "      <td>North Indian, Rajasthani</td>\n",
       "      <td>600</td>\n",
       "      <td>[('Rated 4.0', 'RATED\\n  Very good restaurant ...</td>\n",
       "      <td>[]</td>\n",
       "      <td>Buffet</td>\n",
       "      <td>Banashankari</td>\n",
       "    </tr>\n",
       "  </tbody>\n",
       "</table>\n",
       "</div>"
      ],
      "text/plain": [
       "                                                 url  \\\n",
       "0  https://www.zomato.com/bangalore/jalsa-banasha...   \n",
       "1  https://www.zomato.com/bangalore/spice-elephan...   \n",
       "2  https://www.zomato.com/SanchurroBangalore?cont...   \n",
       "3  https://www.zomato.com/bangalore/addhuri-udupi...   \n",
       "4  https://www.zomato.com/bangalore/grand-village...   \n",
       "\n",
       "                                             address                   name  \\\n",
       "0  942, 21st Main Road, 2nd Stage, Banashankari, ...                  Jalsa   \n",
       "1  2nd Floor, 80 Feet Road, Near Big Bazaar, 6th ...         Spice Elephant   \n",
       "2  1112, Next to KIMS Medical College, 17th Cross...        San Churro Cafe   \n",
       "3  1st Floor, Annakuteera, 3rd Stage, Banashankar...  Addhuri Udupi Bhojana   \n",
       "4  10, 3rd Floor, Lakshmi Associates, Gandhi Baza...          Grand Village   \n",
       "\n",
       "  online_order book_table   rate  votes                             phone  \\\n",
       "0          Yes        Yes  4.1/5    775    080 42297555\\r\\n+91 9743772233   \n",
       "1          Yes         No  4.1/5    787                      080 41714161   \n",
       "2          Yes         No  3.8/5    918                    +91 9663487993   \n",
       "3           No         No  3.7/5     88                    +91 9620009302   \n",
       "4           No         No  3.8/5    166  +91 8026612447\\r\\n+91 9901210005   \n",
       "\n",
       "       location            rest_type  \\\n",
       "0  Banashankari        Casual Dining   \n",
       "1  Banashankari        Casual Dining   \n",
       "2  Banashankari  Cafe, Casual Dining   \n",
       "3  Banashankari          Quick Bites   \n",
       "4  Basavanagudi        Casual Dining   \n",
       "\n",
       "                                          dish_liked  \\\n",
       "0  Pasta, Lunch Buffet, Masala Papad, Paneer Laja...   \n",
       "1  Momos, Lunch Buffet, Chocolate Nirvana, Thai G...   \n",
       "2  Churros, Cannelloni, Minestrone Soup, Hot Choc...   \n",
       "3                                        Masala Dosa   \n",
       "4                                Panipuri, Gol Gappe   \n",
       "\n",
       "                         cuisines approx_cost(for two people)  \\\n",
       "0  North Indian, Mughlai, Chinese                         800   \n",
       "1     Chinese, North Indian, Thai                         800   \n",
       "2          Cafe, Mexican, Italian                         800   \n",
       "3      South Indian, North Indian                         300   \n",
       "4        North Indian, Rajasthani                         600   \n",
       "\n",
       "                                        reviews_list menu_item  \\\n",
       "0  [('Rated 4.0', 'RATED\\n  A beautiful place to ...        []   \n",
       "1  [('Rated 4.0', 'RATED\\n  Had been here for din...        []   \n",
       "2  [('Rated 3.0', \"RATED\\n  Ambience is not that ...        []   \n",
       "3  [('Rated 4.0', \"RATED\\n  Great food and proper...        []   \n",
       "4  [('Rated 4.0', 'RATED\\n  Very good restaurant ...        []   \n",
       "\n",
       "  listed_in(type) listed_in(city)  \n",
       "0          Buffet    Banashankari  \n",
       "1          Buffet    Banashankari  \n",
       "2          Buffet    Banashankari  \n",
       "3          Buffet    Banashankari  \n",
       "4          Buffet    Banashankari  "
      ]
     },
     "execution_count": 2,
     "metadata": {},
     "output_type": "execute_result"
    }
   ],
   "source": [
    "data = pd.read_csv('../input/zomato-eda/zomato.csv')\n",
    "data.head()"
   ]
  },
  {
   "cell_type": "markdown",
   "id": "b906b19c",
   "metadata": {
    "papermill": {
     "duration": 0.013988,
     "end_time": "2022-09-17T06:57:24.321680",
     "exception": false,
     "start_time": "2022-09-17T06:57:24.307692",
     "status": "completed"
    },
    "tags": []
   },
   "source": [
    "Reading last five rows"
   ]
  },
  {
   "cell_type": "code",
   "execution_count": 3,
   "id": "0b3f800c",
   "metadata": {
    "execution": {
     "iopub.execute_input": "2022-09-17T06:57:24.350040Z",
     "iopub.status.busy": "2022-09-17T06:57:24.349658Z",
     "iopub.status.idle": "2022-09-17T06:57:24.372362Z",
     "shell.execute_reply": "2022-09-17T06:57:24.371151Z"
    },
    "papermill": {
     "duration": 0.039616,
     "end_time": "2022-09-17T06:57:24.374757",
     "exception": false,
     "start_time": "2022-09-17T06:57:24.335141",
     "status": "completed"
    },
    "tags": []
   },
   "outputs": [
    {
     "data": {
      "text/html": [
       "<div>\n",
       "<style scoped>\n",
       "    .dataframe tbody tr th:only-of-type {\n",
       "        vertical-align: middle;\n",
       "    }\n",
       "\n",
       "    .dataframe tbody tr th {\n",
       "        vertical-align: top;\n",
       "    }\n",
       "\n",
       "    .dataframe thead th {\n",
       "        text-align: right;\n",
       "    }\n",
       "</style>\n",
       "<table border=\"1\" class=\"dataframe\">\n",
       "  <thead>\n",
       "    <tr style=\"text-align: right;\">\n",
       "      <th></th>\n",
       "      <th>url</th>\n",
       "      <th>address</th>\n",
       "      <th>name</th>\n",
       "      <th>online_order</th>\n",
       "      <th>book_table</th>\n",
       "      <th>rate</th>\n",
       "      <th>votes</th>\n",
       "      <th>phone</th>\n",
       "      <th>location</th>\n",
       "      <th>rest_type</th>\n",
       "      <th>dish_liked</th>\n",
       "      <th>cuisines</th>\n",
       "      <th>approx_cost(for two people)</th>\n",
       "      <th>reviews_list</th>\n",
       "      <th>menu_item</th>\n",
       "      <th>listed_in(type)</th>\n",
       "      <th>listed_in(city)</th>\n",
       "    </tr>\n",
       "  </thead>\n",
       "  <tbody>\n",
       "    <tr>\n",
       "      <th>51712</th>\n",
       "      <td>https://www.zomato.com/bangalore/best-brews-fo...</td>\n",
       "      <td>Four Points by Sheraton Bengaluru, 43/3, White...</td>\n",
       "      <td>Best Brews - Four Points by Sheraton Bengaluru...</td>\n",
       "      <td>No</td>\n",
       "      <td>No</td>\n",
       "      <td>3.6 /5</td>\n",
       "      <td>27</td>\n",
       "      <td>080 40301477</td>\n",
       "      <td>Whitefield</td>\n",
       "      <td>Bar</td>\n",
       "      <td>NaN</td>\n",
       "      <td>Continental</td>\n",
       "      <td>1,500</td>\n",
       "      <td>[('Rated 5.0', \"RATED\\n  Food and service are ...</td>\n",
       "      <td>[]</td>\n",
       "      <td>Pubs and bars</td>\n",
       "      <td>Whitefield</td>\n",
       "    </tr>\n",
       "    <tr>\n",
       "      <th>51713</th>\n",
       "      <td>https://www.zomato.com/bangalore/vinod-bar-and...</td>\n",
       "      <td>Number 10, Garudachar Palya, Mahadevapura, Whi...</td>\n",
       "      <td>Vinod Bar And Restaurant</td>\n",
       "      <td>No</td>\n",
       "      <td>No</td>\n",
       "      <td>NaN</td>\n",
       "      <td>0</td>\n",
       "      <td>+91 8197675843</td>\n",
       "      <td>Whitefield</td>\n",
       "      <td>Bar</td>\n",
       "      <td>NaN</td>\n",
       "      <td>Finger Food</td>\n",
       "      <td>600</td>\n",
       "      <td>[]</td>\n",
       "      <td>[]</td>\n",
       "      <td>Pubs and bars</td>\n",
       "      <td>Whitefield</td>\n",
       "    </tr>\n",
       "    <tr>\n",
       "      <th>51714</th>\n",
       "      <td>https://www.zomato.com/bangalore/plunge-sherat...</td>\n",
       "      <td>Sheraton Grand Bengaluru Whitefield Hotel &amp; Co...</td>\n",
       "      <td>Plunge - Sheraton Grand Bengaluru Whitefield H...</td>\n",
       "      <td>No</td>\n",
       "      <td>No</td>\n",
       "      <td>NaN</td>\n",
       "      <td>0</td>\n",
       "      <td>NaN</td>\n",
       "      <td>Whitefield</td>\n",
       "      <td>Bar</td>\n",
       "      <td>NaN</td>\n",
       "      <td>Finger Food</td>\n",
       "      <td>2,000</td>\n",
       "      <td>[]</td>\n",
       "      <td>[]</td>\n",
       "      <td>Pubs and bars</td>\n",
       "      <td>Whitefield</td>\n",
       "    </tr>\n",
       "    <tr>\n",
       "      <th>51715</th>\n",
       "      <td>https://www.zomato.com/bangalore/chime-sherato...</td>\n",
       "      <td>Sheraton Grand Bengaluru Whitefield Hotel &amp; Co...</td>\n",
       "      <td>Chime - Sheraton Grand Bengaluru Whitefield Ho...</td>\n",
       "      <td>No</td>\n",
       "      <td>Yes</td>\n",
       "      <td>4.3 /5</td>\n",
       "      <td>236</td>\n",
       "      <td>080 49652769</td>\n",
       "      <td>ITPL Main Road, Whitefield</td>\n",
       "      <td>Bar</td>\n",
       "      <td>Cocktails, Pizza, Buttermilk</td>\n",
       "      <td>Finger Food</td>\n",
       "      <td>2,500</td>\n",
       "      <td>[('Rated 4.0', 'RATED\\n  Nice and friendly pla...</td>\n",
       "      <td>[]</td>\n",
       "      <td>Pubs and bars</td>\n",
       "      <td>Whitefield</td>\n",
       "    </tr>\n",
       "    <tr>\n",
       "      <th>51716</th>\n",
       "      <td>https://www.zomato.com/bangalore/the-nest-the-...</td>\n",
       "      <td>ITPL Main Road, KIADB Export Promotion Industr...</td>\n",
       "      <td>The Nest - The Den Bengaluru</td>\n",
       "      <td>No</td>\n",
       "      <td>No</td>\n",
       "      <td>3.4 /5</td>\n",
       "      <td>13</td>\n",
       "      <td>+91 8071117272</td>\n",
       "      <td>ITPL Main Road, Whitefield</td>\n",
       "      <td>Bar, Casual Dining</td>\n",
       "      <td>NaN</td>\n",
       "      <td>Finger Food, North Indian, Continental</td>\n",
       "      <td>1,500</td>\n",
       "      <td>[('Rated 5.0', 'RATED\\n  Great ambience , look...</td>\n",
       "      <td>[]</td>\n",
       "      <td>Pubs and bars</td>\n",
       "      <td>Whitefield</td>\n",
       "    </tr>\n",
       "  </tbody>\n",
       "</table>\n",
       "</div>"
      ],
      "text/plain": [
       "                                                     url  \\\n",
       "51712  https://www.zomato.com/bangalore/best-brews-fo...   \n",
       "51713  https://www.zomato.com/bangalore/vinod-bar-and...   \n",
       "51714  https://www.zomato.com/bangalore/plunge-sherat...   \n",
       "51715  https://www.zomato.com/bangalore/chime-sherato...   \n",
       "51716  https://www.zomato.com/bangalore/the-nest-the-...   \n",
       "\n",
       "                                                 address  \\\n",
       "51712  Four Points by Sheraton Bengaluru, 43/3, White...   \n",
       "51713  Number 10, Garudachar Palya, Mahadevapura, Whi...   \n",
       "51714  Sheraton Grand Bengaluru Whitefield Hotel & Co...   \n",
       "51715  Sheraton Grand Bengaluru Whitefield Hotel & Co...   \n",
       "51716  ITPL Main Road, KIADB Export Promotion Industr...   \n",
       "\n",
       "                                                    name online_order  \\\n",
       "51712  Best Brews - Four Points by Sheraton Bengaluru...           No   \n",
       "51713                           Vinod Bar And Restaurant           No   \n",
       "51714  Plunge - Sheraton Grand Bengaluru Whitefield H...           No   \n",
       "51715  Chime - Sheraton Grand Bengaluru Whitefield Ho...           No   \n",
       "51716                       The Nest - The Den Bengaluru           No   \n",
       "\n",
       "      book_table    rate  votes           phone                    location  \\\n",
       "51712         No  3.6 /5     27    080 40301477                  Whitefield   \n",
       "51713         No     NaN      0  +91 8197675843                  Whitefield   \n",
       "51714         No     NaN      0             NaN                  Whitefield   \n",
       "51715        Yes  4.3 /5    236    080 49652769  ITPL Main Road, Whitefield   \n",
       "51716         No  3.4 /5     13  +91 8071117272  ITPL Main Road, Whitefield   \n",
       "\n",
       "                rest_type                    dish_liked  \\\n",
       "51712                 Bar                           NaN   \n",
       "51713                 Bar                           NaN   \n",
       "51714                 Bar                           NaN   \n",
       "51715                 Bar  Cocktails, Pizza, Buttermilk   \n",
       "51716  Bar, Casual Dining                           NaN   \n",
       "\n",
       "                                     cuisines approx_cost(for two people)  \\\n",
       "51712                             Continental                       1,500   \n",
       "51713                             Finger Food                         600   \n",
       "51714                             Finger Food                       2,000   \n",
       "51715                             Finger Food                       2,500   \n",
       "51716  Finger Food, North Indian, Continental                       1,500   \n",
       "\n",
       "                                            reviews_list menu_item  \\\n",
       "51712  [('Rated 5.0', \"RATED\\n  Food and service are ...        []   \n",
       "51713                                                 []        []   \n",
       "51714                                                 []        []   \n",
       "51715  [('Rated 4.0', 'RATED\\n  Nice and friendly pla...        []   \n",
       "51716  [('Rated 5.0', 'RATED\\n  Great ambience , look...        []   \n",
       "\n",
       "      listed_in(type) listed_in(city)  \n",
       "51712   Pubs and bars      Whitefield  \n",
       "51713   Pubs and bars      Whitefield  \n",
       "51714   Pubs and bars      Whitefield  \n",
       "51715   Pubs and bars      Whitefield  \n",
       "51716   Pubs and bars      Whitefield  "
      ]
     },
     "execution_count": 3,
     "metadata": {},
     "output_type": "execute_result"
    }
   ],
   "source": [
    "data.tail()"
   ]
  },
  {
   "cell_type": "markdown",
   "id": "eeb74444",
   "metadata": {
    "papermill": {
     "duration": 0.013485,
     "end_time": "2022-09-17T06:57:24.402272",
     "exception": false,
     "start_time": "2022-09-17T06:57:24.388787",
     "status": "completed"
    },
    "tags": []
   },
   "source": [
    "Info of dataset"
   ]
  },
  {
   "cell_type": "code",
   "execution_count": 4,
   "id": "2a607b2e",
   "metadata": {
    "execution": {
     "iopub.execute_input": "2022-09-17T06:57:24.432154Z",
     "iopub.status.busy": "2022-09-17T06:57:24.431698Z",
     "iopub.status.idle": "2022-09-17T06:57:24.502424Z",
     "shell.execute_reply": "2022-09-17T06:57:24.501391Z"
    },
    "papermill": {
     "duration": 0.089241,
     "end_time": "2022-09-17T06:57:24.505247",
     "exception": false,
     "start_time": "2022-09-17T06:57:24.416006",
     "status": "completed"
    },
    "tags": []
   },
   "outputs": [
    {
     "name": "stdout",
     "output_type": "stream",
     "text": [
      "<class 'pandas.core.frame.DataFrame'>\n",
      "RangeIndex: 51717 entries, 0 to 51716\n",
      "Data columns (total 17 columns):\n",
      " #   Column                       Non-Null Count  Dtype \n",
      "---  ------                       --------------  ----- \n",
      " 0   url                          51717 non-null  object\n",
      " 1   address                      51717 non-null  object\n",
      " 2   name                         51717 non-null  object\n",
      " 3   online_order                 51717 non-null  object\n",
      " 4   book_table                   51717 non-null  object\n",
      " 5   rate                         43942 non-null  object\n",
      " 6   votes                        51717 non-null  int64 \n",
      " 7   phone                        50509 non-null  object\n",
      " 8   location                     51696 non-null  object\n",
      " 9   rest_type                    51490 non-null  object\n",
      " 10  dish_liked                   23639 non-null  object\n",
      " 11  cuisines                     51672 non-null  object\n",
      " 12  approx_cost(for two people)  51371 non-null  object\n",
      " 13  reviews_list                 51717 non-null  object\n",
      " 14  menu_item                    51717 non-null  object\n",
      " 15  listed_in(type)              51717 non-null  object\n",
      " 16  listed_in(city)              51717 non-null  object\n",
      "dtypes: int64(1), object(16)\n",
      "memory usage: 6.7+ MB\n"
     ]
    }
   ],
   "source": [
    "data.info()"
   ]
  },
  {
   "cell_type": "markdown",
   "id": "e4315eb5",
   "metadata": {
    "papermill": {
     "duration": 0.014123,
     "end_time": "2022-09-17T06:57:24.533552",
     "exception": false,
     "start_time": "2022-09-17T06:57:24.519429",
     "status": "completed"
    },
    "tags": []
   },
   "source": []
  },
  {
   "cell_type": "code",
   "execution_count": 5,
   "id": "2481e908",
   "metadata": {
    "execution": {
     "iopub.execute_input": "2022-09-17T06:57:24.563291Z",
     "iopub.status.busy": "2022-09-17T06:57:24.562348Z",
     "iopub.status.idle": "2022-09-17T06:57:24.576350Z",
     "shell.execute_reply": "2022-09-17T06:57:24.575129Z"
    },
    "papermill": {
     "duration": 0.031563,
     "end_time": "2022-09-17T06:57:24.579015",
     "exception": false,
     "start_time": "2022-09-17T06:57:24.547452",
     "status": "completed"
    },
    "tags": []
   },
   "outputs": [],
   "source": [
    "data.drop(['url','address','menu_item','phone','reviews_list'],axis=1,inplace=True)"
   ]
  },
  {
   "cell_type": "code",
   "execution_count": 6,
   "id": "1b9aabc9",
   "metadata": {
    "execution": {
     "iopub.execute_input": "2022-09-17T06:57:24.608561Z",
     "iopub.status.busy": "2022-09-17T06:57:24.608130Z",
     "iopub.status.idle": "2022-09-17T06:57:24.626757Z",
     "shell.execute_reply": "2022-09-17T06:57:24.625287Z"
    },
    "papermill": {
     "duration": 0.036225,
     "end_time": "2022-09-17T06:57:24.629140",
     "exception": false,
     "start_time": "2022-09-17T06:57:24.592915",
     "status": "completed"
    },
    "tags": []
   },
   "outputs": [
    {
     "data": {
      "text/html": [
       "<div>\n",
       "<style scoped>\n",
       "    .dataframe tbody tr th:only-of-type {\n",
       "        vertical-align: middle;\n",
       "    }\n",
       "\n",
       "    .dataframe tbody tr th {\n",
       "        vertical-align: top;\n",
       "    }\n",
       "\n",
       "    .dataframe thead th {\n",
       "        text-align: right;\n",
       "    }\n",
       "</style>\n",
       "<table border=\"1\" class=\"dataframe\">\n",
       "  <thead>\n",
       "    <tr style=\"text-align: right;\">\n",
       "      <th></th>\n",
       "      <th>name</th>\n",
       "      <th>online_order</th>\n",
       "      <th>book_table</th>\n",
       "      <th>rate</th>\n",
       "      <th>votes</th>\n",
       "      <th>location</th>\n",
       "      <th>rest_type</th>\n",
       "      <th>dish_liked</th>\n",
       "      <th>cuisines</th>\n",
       "      <th>approx_cost(for two people)</th>\n",
       "      <th>listed_in(type)</th>\n",
       "      <th>listed_in(city)</th>\n",
       "    </tr>\n",
       "  </thead>\n",
       "  <tbody>\n",
       "    <tr>\n",
       "      <th>0</th>\n",
       "      <td>Jalsa</td>\n",
       "      <td>Yes</td>\n",
       "      <td>Yes</td>\n",
       "      <td>4.1/5</td>\n",
       "      <td>775</td>\n",
       "      <td>Banashankari</td>\n",
       "      <td>Casual Dining</td>\n",
       "      <td>Pasta, Lunch Buffet, Masala Papad, Paneer Laja...</td>\n",
       "      <td>North Indian, Mughlai, Chinese</td>\n",
       "      <td>800</td>\n",
       "      <td>Buffet</td>\n",
       "      <td>Banashankari</td>\n",
       "    </tr>\n",
       "    <tr>\n",
       "      <th>1</th>\n",
       "      <td>Spice Elephant</td>\n",
       "      <td>Yes</td>\n",
       "      <td>No</td>\n",
       "      <td>4.1/5</td>\n",
       "      <td>787</td>\n",
       "      <td>Banashankari</td>\n",
       "      <td>Casual Dining</td>\n",
       "      <td>Momos, Lunch Buffet, Chocolate Nirvana, Thai G...</td>\n",
       "      <td>Chinese, North Indian, Thai</td>\n",
       "      <td>800</td>\n",
       "      <td>Buffet</td>\n",
       "      <td>Banashankari</td>\n",
       "    </tr>\n",
       "    <tr>\n",
       "      <th>2</th>\n",
       "      <td>San Churro Cafe</td>\n",
       "      <td>Yes</td>\n",
       "      <td>No</td>\n",
       "      <td>3.8/5</td>\n",
       "      <td>918</td>\n",
       "      <td>Banashankari</td>\n",
       "      <td>Cafe, Casual Dining</td>\n",
       "      <td>Churros, Cannelloni, Minestrone Soup, Hot Choc...</td>\n",
       "      <td>Cafe, Mexican, Italian</td>\n",
       "      <td>800</td>\n",
       "      <td>Buffet</td>\n",
       "      <td>Banashankari</td>\n",
       "    </tr>\n",
       "    <tr>\n",
       "      <th>3</th>\n",
       "      <td>Addhuri Udupi Bhojana</td>\n",
       "      <td>No</td>\n",
       "      <td>No</td>\n",
       "      <td>3.7/5</td>\n",
       "      <td>88</td>\n",
       "      <td>Banashankari</td>\n",
       "      <td>Quick Bites</td>\n",
       "      <td>Masala Dosa</td>\n",
       "      <td>South Indian, North Indian</td>\n",
       "      <td>300</td>\n",
       "      <td>Buffet</td>\n",
       "      <td>Banashankari</td>\n",
       "    </tr>\n",
       "    <tr>\n",
       "      <th>4</th>\n",
       "      <td>Grand Village</td>\n",
       "      <td>No</td>\n",
       "      <td>No</td>\n",
       "      <td>3.8/5</td>\n",
       "      <td>166</td>\n",
       "      <td>Basavanagudi</td>\n",
       "      <td>Casual Dining</td>\n",
       "      <td>Panipuri, Gol Gappe</td>\n",
       "      <td>North Indian, Rajasthani</td>\n",
       "      <td>600</td>\n",
       "      <td>Buffet</td>\n",
       "      <td>Banashankari</td>\n",
       "    </tr>\n",
       "  </tbody>\n",
       "</table>\n",
       "</div>"
      ],
      "text/plain": [
       "                    name online_order book_table   rate  votes      location  \\\n",
       "0                  Jalsa          Yes        Yes  4.1/5    775  Banashankari   \n",
       "1         Spice Elephant          Yes         No  4.1/5    787  Banashankari   \n",
       "2        San Churro Cafe          Yes         No  3.8/5    918  Banashankari   \n",
       "3  Addhuri Udupi Bhojana           No         No  3.7/5     88  Banashankari   \n",
       "4          Grand Village           No         No  3.8/5    166  Basavanagudi   \n",
       "\n",
       "             rest_type                                         dish_liked  \\\n",
       "0        Casual Dining  Pasta, Lunch Buffet, Masala Papad, Paneer Laja...   \n",
       "1        Casual Dining  Momos, Lunch Buffet, Chocolate Nirvana, Thai G...   \n",
       "2  Cafe, Casual Dining  Churros, Cannelloni, Minestrone Soup, Hot Choc...   \n",
       "3          Quick Bites                                        Masala Dosa   \n",
       "4        Casual Dining                                Panipuri, Gol Gappe   \n",
       "\n",
       "                         cuisines approx_cost(for two people) listed_in(type)  \\\n",
       "0  North Indian, Mughlai, Chinese                         800          Buffet   \n",
       "1     Chinese, North Indian, Thai                         800          Buffet   \n",
       "2          Cafe, Mexican, Italian                         800          Buffet   \n",
       "3      South Indian, North Indian                         300          Buffet   \n",
       "4        North Indian, Rajasthani                         600          Buffet   \n",
       "\n",
       "  listed_in(city)  \n",
       "0    Banashankari  \n",
       "1    Banashankari  \n",
       "2    Banashankari  \n",
       "3    Banashankari  \n",
       "4    Banashankari  "
      ]
     },
     "execution_count": 6,
     "metadata": {},
     "output_type": "execute_result"
    }
   ],
   "source": [
    "data.head()"
   ]
  },
  {
   "cell_type": "code",
   "execution_count": 7,
   "id": "c09816f8",
   "metadata": {
    "execution": {
     "iopub.execute_input": "2022-09-17T06:57:24.660542Z",
     "iopub.status.busy": "2022-09-17T06:57:24.659196Z",
     "iopub.status.idle": "2022-09-17T06:57:24.667624Z",
     "shell.execute_reply": "2022-09-17T06:57:24.666534Z"
    },
    "papermill": {
     "duration": 0.026627,
     "end_time": "2022-09-17T06:57:24.670181",
     "exception": false,
     "start_time": "2022-09-17T06:57:24.643554",
     "status": "completed"
    },
    "tags": []
   },
   "outputs": [],
   "source": [
    "data.rename(columns={'name':'restaurants name','rate':'rating','cuisines':'food_type','listed_in(type)':'type','listed_in(city)':'city','approx_cost(for two people)':'price(for two people)'},inplace=True)"
   ]
  },
  {
   "cell_type": "markdown",
   "id": "5f5a0650",
   "metadata": {
    "papermill": {
     "duration": 0.014088,
     "end_time": "2022-09-17T06:57:24.699033",
     "exception": false,
     "start_time": "2022-09-17T06:57:24.684945",
     "status": "completed"
    },
    "tags": []
   },
   "source": []
  },
  {
   "cell_type": "code",
   "execution_count": 8,
   "id": "1283582e",
   "metadata": {
    "execution": {
     "iopub.execute_input": "2022-09-17T06:57:24.731005Z",
     "iopub.status.busy": "2022-09-17T06:57:24.729503Z",
     "iopub.status.idle": "2022-09-17T06:57:24.746879Z",
     "shell.execute_reply": "2022-09-17T06:57:24.745550Z"
    },
    "papermill": {
     "duration": 0.035638,
     "end_time": "2022-09-17T06:57:24.749321",
     "exception": false,
     "start_time": "2022-09-17T06:57:24.713683",
     "status": "completed"
    },
    "tags": []
   },
   "outputs": [
    {
     "data": {
      "text/html": [
       "<div>\n",
       "<style scoped>\n",
       "    .dataframe tbody tr th:only-of-type {\n",
       "        vertical-align: middle;\n",
       "    }\n",
       "\n",
       "    .dataframe tbody tr th {\n",
       "        vertical-align: top;\n",
       "    }\n",
       "\n",
       "    .dataframe thead th {\n",
       "        text-align: right;\n",
       "    }\n",
       "</style>\n",
       "<table border=\"1\" class=\"dataframe\">\n",
       "  <thead>\n",
       "    <tr style=\"text-align: right;\">\n",
       "      <th></th>\n",
       "      <th>restaurants name</th>\n",
       "      <th>online_order</th>\n",
       "      <th>book_table</th>\n",
       "      <th>rating</th>\n",
       "      <th>votes</th>\n",
       "      <th>location</th>\n",
       "      <th>rest_type</th>\n",
       "      <th>dish_liked</th>\n",
       "      <th>food_type</th>\n",
       "      <th>price(for two people)</th>\n",
       "      <th>type</th>\n",
       "      <th>city</th>\n",
       "    </tr>\n",
       "  </thead>\n",
       "  <tbody>\n",
       "    <tr>\n",
       "      <th>0</th>\n",
       "      <td>Jalsa</td>\n",
       "      <td>Yes</td>\n",
       "      <td>Yes</td>\n",
       "      <td>4.1/5</td>\n",
       "      <td>775</td>\n",
       "      <td>Banashankari</td>\n",
       "      <td>Casual Dining</td>\n",
       "      <td>Pasta, Lunch Buffet, Masala Papad, Paneer Laja...</td>\n",
       "      <td>North Indian, Mughlai, Chinese</td>\n",
       "      <td>800</td>\n",
       "      <td>Buffet</td>\n",
       "      <td>Banashankari</td>\n",
       "    </tr>\n",
       "  </tbody>\n",
       "</table>\n",
       "</div>"
      ],
      "text/plain": [
       "  restaurants name online_order book_table rating  votes      location  \\\n",
       "0            Jalsa          Yes        Yes  4.1/5    775  Banashankari   \n",
       "\n",
       "       rest_type                                         dish_liked  \\\n",
       "0  Casual Dining  Pasta, Lunch Buffet, Masala Papad, Paneer Laja...   \n",
       "\n",
       "                        food_type price(for two people)    type          city  \n",
       "0  North Indian, Mughlai, Chinese                   800  Buffet  Banashankari  "
      ]
     },
     "execution_count": 8,
     "metadata": {},
     "output_type": "execute_result"
    }
   ],
   "source": [
    "data.head(1)"
   ]
  },
  {
   "cell_type": "code",
   "execution_count": 9,
   "id": "8f1a9a1c",
   "metadata": {
    "execution": {
     "iopub.execute_input": "2022-09-17T06:57:24.781030Z",
     "iopub.status.busy": "2022-09-17T06:57:24.780606Z",
     "iopub.status.idle": "2022-09-17T06:57:24.798595Z",
     "shell.execute_reply": "2022-09-17T06:57:24.797308Z"
    },
    "papermill": {
     "duration": 0.036985,
     "end_time": "2022-09-17T06:57:24.801267",
     "exception": false,
     "start_time": "2022-09-17T06:57:24.764282",
     "status": "completed"
    },
    "tags": []
   },
   "outputs": [
    {
     "data": {
      "text/html": [
       "<div>\n",
       "<style scoped>\n",
       "    .dataframe tbody tr th:only-of-type {\n",
       "        vertical-align: middle;\n",
       "    }\n",
       "\n",
       "    .dataframe tbody tr th {\n",
       "        vertical-align: top;\n",
       "    }\n",
       "\n",
       "    .dataframe thead th {\n",
       "        text-align: right;\n",
       "    }\n",
       "</style>\n",
       "<table border=\"1\" class=\"dataframe\">\n",
       "  <thead>\n",
       "    <tr style=\"text-align: right;\">\n",
       "      <th></th>\n",
       "      <th>restaurants name</th>\n",
       "      <th>online_order</th>\n",
       "      <th>book_table</th>\n",
       "      <th>rating</th>\n",
       "      <th>votes</th>\n",
       "      <th>location</th>\n",
       "      <th>rest_type</th>\n",
       "      <th>dish_liked</th>\n",
       "      <th>food_type</th>\n",
       "      <th>price(for two people)</th>\n",
       "      <th>type</th>\n",
       "      <th>city</th>\n",
       "    </tr>\n",
       "  </thead>\n",
       "  <tbody>\n",
       "    <tr>\n",
       "      <th>51712</th>\n",
       "      <td>Best Brews - Four Points by Sheraton Bengaluru...</td>\n",
       "      <td>No</td>\n",
       "      <td>No</td>\n",
       "      <td>3.6 /5</td>\n",
       "      <td>27</td>\n",
       "      <td>Whitefield</td>\n",
       "      <td>Bar</td>\n",
       "      <td>NaN</td>\n",
       "      <td>Continental</td>\n",
       "      <td>1,500</td>\n",
       "      <td>Pubs and bars</td>\n",
       "      <td>Whitefield</td>\n",
       "    </tr>\n",
       "    <tr>\n",
       "      <th>51713</th>\n",
       "      <td>Vinod Bar And Restaurant</td>\n",
       "      <td>No</td>\n",
       "      <td>No</td>\n",
       "      <td>NaN</td>\n",
       "      <td>0</td>\n",
       "      <td>Whitefield</td>\n",
       "      <td>Bar</td>\n",
       "      <td>NaN</td>\n",
       "      <td>Finger Food</td>\n",
       "      <td>600</td>\n",
       "      <td>Pubs and bars</td>\n",
       "      <td>Whitefield</td>\n",
       "    </tr>\n",
       "    <tr>\n",
       "      <th>51714</th>\n",
       "      <td>Plunge - Sheraton Grand Bengaluru Whitefield H...</td>\n",
       "      <td>No</td>\n",
       "      <td>No</td>\n",
       "      <td>NaN</td>\n",
       "      <td>0</td>\n",
       "      <td>Whitefield</td>\n",
       "      <td>Bar</td>\n",
       "      <td>NaN</td>\n",
       "      <td>Finger Food</td>\n",
       "      <td>2,000</td>\n",
       "      <td>Pubs and bars</td>\n",
       "      <td>Whitefield</td>\n",
       "    </tr>\n",
       "    <tr>\n",
       "      <th>51715</th>\n",
       "      <td>Chime - Sheraton Grand Bengaluru Whitefield Ho...</td>\n",
       "      <td>No</td>\n",
       "      <td>Yes</td>\n",
       "      <td>4.3 /5</td>\n",
       "      <td>236</td>\n",
       "      <td>ITPL Main Road, Whitefield</td>\n",
       "      <td>Bar</td>\n",
       "      <td>Cocktails, Pizza, Buttermilk</td>\n",
       "      <td>Finger Food</td>\n",
       "      <td>2,500</td>\n",
       "      <td>Pubs and bars</td>\n",
       "      <td>Whitefield</td>\n",
       "    </tr>\n",
       "    <tr>\n",
       "      <th>51716</th>\n",
       "      <td>The Nest - The Den Bengaluru</td>\n",
       "      <td>No</td>\n",
       "      <td>No</td>\n",
       "      <td>3.4 /5</td>\n",
       "      <td>13</td>\n",
       "      <td>ITPL Main Road, Whitefield</td>\n",
       "      <td>Bar, Casual Dining</td>\n",
       "      <td>NaN</td>\n",
       "      <td>Finger Food, North Indian, Continental</td>\n",
       "      <td>1,500</td>\n",
       "      <td>Pubs and bars</td>\n",
       "      <td>Whitefield</td>\n",
       "    </tr>\n",
       "  </tbody>\n",
       "</table>\n",
       "</div>"
      ],
      "text/plain": [
       "                                        restaurants name online_order  \\\n",
       "51712  Best Brews - Four Points by Sheraton Bengaluru...           No   \n",
       "51713                           Vinod Bar And Restaurant           No   \n",
       "51714  Plunge - Sheraton Grand Bengaluru Whitefield H...           No   \n",
       "51715  Chime - Sheraton Grand Bengaluru Whitefield Ho...           No   \n",
       "51716                       The Nest - The Den Bengaluru           No   \n",
       "\n",
       "      book_table  rating  votes                    location  \\\n",
       "51712         No  3.6 /5     27                  Whitefield   \n",
       "51713         No     NaN      0                  Whitefield   \n",
       "51714         No     NaN      0                  Whitefield   \n",
       "51715        Yes  4.3 /5    236  ITPL Main Road, Whitefield   \n",
       "51716         No  3.4 /5     13  ITPL Main Road, Whitefield   \n",
       "\n",
       "                rest_type                    dish_liked  \\\n",
       "51712                 Bar                           NaN   \n",
       "51713                 Bar                           NaN   \n",
       "51714                 Bar                           NaN   \n",
       "51715                 Bar  Cocktails, Pizza, Buttermilk   \n",
       "51716  Bar, Casual Dining                           NaN   \n",
       "\n",
       "                                    food_type price(for two people)  \\\n",
       "51712                             Continental                 1,500   \n",
       "51713                             Finger Food                   600   \n",
       "51714                             Finger Food                 2,000   \n",
       "51715                             Finger Food                 2,500   \n",
       "51716  Finger Food, North Indian, Continental                 1,500   \n",
       "\n",
       "                type        city  \n",
       "51712  Pubs and bars  Whitefield  \n",
       "51713  Pubs and bars  Whitefield  \n",
       "51714  Pubs and bars  Whitefield  \n",
       "51715  Pubs and bars  Whitefield  \n",
       "51716  Pubs and bars  Whitefield  "
      ]
     },
     "execution_count": 9,
     "metadata": {},
     "output_type": "execute_result"
    }
   ],
   "source": [
    "data.tail()"
   ]
  },
  {
   "cell_type": "code",
   "execution_count": 10,
   "id": "3b00160f",
   "metadata": {
    "execution": {
     "iopub.execute_input": "2022-09-17T06:57:24.832982Z",
     "iopub.status.busy": "2022-09-17T06:57:24.832576Z",
     "iopub.status.idle": "2022-09-17T06:57:24.870373Z",
     "shell.execute_reply": "2022-09-17T06:57:24.868956Z"
    },
    "papermill": {
     "duration": 0.056986,
     "end_time": "2022-09-17T06:57:24.873286",
     "exception": false,
     "start_time": "2022-09-17T06:57:24.816300",
     "status": "completed"
    },
    "tags": []
   },
   "outputs": [],
   "source": [
    "data.dropna(inplace = True)"
   ]
  },
  {
   "cell_type": "code",
   "execution_count": 11,
   "id": "935ae762",
   "metadata": {
    "execution": {
     "iopub.execute_input": "2022-09-17T06:57:24.905384Z",
     "iopub.status.busy": "2022-09-17T06:57:24.904949Z",
     "iopub.status.idle": "2022-09-17T06:57:24.941610Z",
     "shell.execute_reply": "2022-09-17T06:57:24.940667Z"
    },
    "papermill": {
     "duration": 0.05579,
     "end_time": "2022-09-17T06:57:24.944026",
     "exception": false,
     "start_time": "2022-09-17T06:57:24.888236",
     "status": "completed"
    },
    "tags": []
   },
   "outputs": [
    {
     "data": {
      "text/html": [
       "<div>\n",
       "<style scoped>\n",
       "    .dataframe tbody tr th:only-of-type {\n",
       "        vertical-align: middle;\n",
       "    }\n",
       "\n",
       "    .dataframe tbody tr th {\n",
       "        vertical-align: top;\n",
       "    }\n",
       "\n",
       "    .dataframe thead th {\n",
       "        text-align: right;\n",
       "    }\n",
       "</style>\n",
       "<table border=\"1\" class=\"dataframe\">\n",
       "  <thead>\n",
       "    <tr style=\"text-align: right;\">\n",
       "      <th></th>\n",
       "      <th>online_order</th>\n",
       "      <th>book_table</th>\n",
       "      <th>rating</th>\n",
       "      <th>votes</th>\n",
       "      <th>location</th>\n",
       "      <th>rest_type</th>\n",
       "      <th>dish_liked</th>\n",
       "      <th>food_type</th>\n",
       "      <th>price(for two people)</th>\n",
       "      <th>type</th>\n",
       "      <th>city</th>\n",
       "    </tr>\n",
       "    <tr>\n",
       "      <th>restaurants name</th>\n",
       "      <th></th>\n",
       "      <th></th>\n",
       "      <th></th>\n",
       "      <th></th>\n",
       "      <th></th>\n",
       "      <th></th>\n",
       "      <th></th>\n",
       "      <th></th>\n",
       "      <th></th>\n",
       "      <th></th>\n",
       "      <th></th>\n",
       "    </tr>\n",
       "  </thead>\n",
       "  <tbody>\n",
       "    <tr>\n",
       "      <th>#L-81 Cafe</th>\n",
       "      <td>9</td>\n",
       "      <td>9</td>\n",
       "      <td>9</td>\n",
       "      <td>9</td>\n",
       "      <td>9</td>\n",
       "      <td>9</td>\n",
       "      <td>9</td>\n",
       "      <td>9</td>\n",
       "      <td>9</td>\n",
       "      <td>9</td>\n",
       "      <td>9</td>\n",
       "    </tr>\n",
       "    <tr>\n",
       "      <th>#refuel</th>\n",
       "      <td>3</td>\n",
       "      <td>3</td>\n",
       "      <td>3</td>\n",
       "      <td>3</td>\n",
       "      <td>3</td>\n",
       "      <td>3</td>\n",
       "      <td>3</td>\n",
       "      <td>3</td>\n",
       "      <td>3</td>\n",
       "      <td>3</td>\n",
       "      <td>3</td>\n",
       "    </tr>\n",
       "    <tr>\n",
       "      <th>1000 B.C</th>\n",
       "      <td>6</td>\n",
       "      <td>6</td>\n",
       "      <td>6</td>\n",
       "      <td>6</td>\n",
       "      <td>6</td>\n",
       "      <td>6</td>\n",
       "      <td>6</td>\n",
       "      <td>6</td>\n",
       "      <td>6</td>\n",
       "      <td>6</td>\n",
       "      <td>6</td>\n",
       "    </tr>\n",
       "    <tr>\n",
       "      <th>100ÃÂÃÂÃÂÃÂÃÂÃÂÃÂÃÂ°C</th>\n",
       "      <td>3</td>\n",
       "      <td>3</td>\n",
       "      <td>3</td>\n",
       "      <td>3</td>\n",
       "      <td>3</td>\n",
       "      <td>3</td>\n",
       "      <td>3</td>\n",
       "      <td>3</td>\n",
       "      <td>3</td>\n",
       "      <td>3</td>\n",
       "      <td>3</td>\n",
       "    </tr>\n",
       "    <tr>\n",
       "      <th>1131 Bar + Kitchen</th>\n",
       "      <td>6</td>\n",
       "      <td>6</td>\n",
       "      <td>6</td>\n",
       "      <td>6</td>\n",
       "      <td>6</td>\n",
       "      <td>6</td>\n",
       "      <td>6</td>\n",
       "      <td>6</td>\n",
       "      <td>6</td>\n",
       "      <td>6</td>\n",
       "      <td>6</td>\n",
       "    </tr>\n",
       "  </tbody>\n",
       "</table>\n",
       "</div>"
      ],
      "text/plain": [
       "                                      online_order  book_table  rating  votes  \\\n",
       "restaurants name                                                                \n",
       "#L-81 Cafe                                       9           9       9      9   \n",
       "#refuel                                          3           3       3      3   \n",
       "1000 B.C                                         6           6       6      6   \n",
       "100ÃÂÃÂÃÂÃÂÃÂÃÂÃÂÃÂ°C             3           3       3      3   \n",
       "1131 Bar + Kitchen                               6           6       6      6   \n",
       "\n",
       "                                      location  rest_type  dish_liked  \\\n",
       "restaurants name                                                        \n",
       "#L-81 Cafe                                   9          9           9   \n",
       "#refuel                                      3          3           3   \n",
       "1000 B.C                                     6          6           6   \n",
       "100ÃÂÃÂÃÂÃÂÃÂÃÂÃÂÃÂ°C         3          3           3   \n",
       "1131 Bar + Kitchen                           6          6           6   \n",
       "\n",
       "                                      food_type  price(for two people)  type  \\\n",
       "restaurants name                                                               \n",
       "#L-81 Cafe                                    9                      9     9   \n",
       "#refuel                                       3                      3     3   \n",
       "1000 B.C                                      6                      6     6   \n",
       "100ÃÂÃÂÃÂÃÂÃÂÃÂÃÂÃÂ°C          3                      3     3   \n",
       "1131 Bar + Kitchen                            6                      6     6   \n",
       "\n",
       "                                      city  \n",
       "restaurants name                            \n",
       "#L-81 Cafe                               9  \n",
       "#refuel                                  3  \n",
       "1000 B.C                                 6  \n",
       "100ÃÂÃÂÃÂÃÂÃÂÃÂÃÂÃÂ°C     3  \n",
       "1131 Bar + Kitchen                       6  "
      ]
     },
     "execution_count": 11,
     "metadata": {},
     "output_type": "execute_result"
    }
   ],
   "source": [
    "data.groupby('restaurants name').count().head()"
   ]
  },
  {
   "cell_type": "code",
   "execution_count": 12,
   "id": "6261e526",
   "metadata": {
    "execution": {
     "iopub.execute_input": "2022-09-17T06:57:24.976383Z",
     "iopub.status.busy": "2022-09-17T06:57:24.975929Z",
     "iopub.status.idle": "2022-09-17T06:57:24.999603Z",
     "shell.execute_reply": "2022-09-17T06:57:24.998444Z"
    },
    "papermill": {
     "duration": 0.043354,
     "end_time": "2022-09-17T06:57:25.002481",
     "exception": false,
     "start_time": "2022-09-17T06:57:24.959127",
     "status": "completed"
    },
    "tags": []
   },
   "outputs": [],
   "source": [
    "data['restaurants name']=data['restaurants name'].str.replace('[Ãx][^A-Za-z]+','',regex=True)"
   ]
  },
  {
   "cell_type": "code",
   "execution_count": 13,
   "id": "968f87e4",
   "metadata": {
    "execution": {
     "iopub.execute_input": "2022-09-17T06:57:25.034754Z",
     "iopub.status.busy": "2022-09-17T06:57:25.033951Z",
     "iopub.status.idle": "2022-09-17T06:57:25.070622Z",
     "shell.execute_reply": "2022-09-17T06:57:25.069506Z"
    },
    "papermill": {
     "duration": 0.055823,
     "end_time": "2022-09-17T06:57:25.073235",
     "exception": false,
     "start_time": "2022-09-17T06:57:25.017412",
     "status": "completed"
    },
    "tags": []
   },
   "outputs": [
    {
     "data": {
      "text/html": [
       "<div>\n",
       "<style scoped>\n",
       "    .dataframe tbody tr th:only-of-type {\n",
       "        vertical-align: middle;\n",
       "    }\n",
       "\n",
       "    .dataframe tbody tr th {\n",
       "        vertical-align: top;\n",
       "    }\n",
       "\n",
       "    .dataframe thead th {\n",
       "        text-align: right;\n",
       "    }\n",
       "</style>\n",
       "<table border=\"1\" class=\"dataframe\">\n",
       "  <thead>\n",
       "    <tr style=\"text-align: right;\">\n",
       "      <th></th>\n",
       "      <th>online_order</th>\n",
       "      <th>book_table</th>\n",
       "      <th>rating</th>\n",
       "      <th>votes</th>\n",
       "      <th>location</th>\n",
       "      <th>rest_type</th>\n",
       "      <th>dish_liked</th>\n",
       "      <th>food_type</th>\n",
       "      <th>price(for two people)</th>\n",
       "      <th>type</th>\n",
       "      <th>city</th>\n",
       "    </tr>\n",
       "    <tr>\n",
       "      <th>restaurants name</th>\n",
       "      <th></th>\n",
       "      <th></th>\n",
       "      <th></th>\n",
       "      <th></th>\n",
       "      <th></th>\n",
       "      <th></th>\n",
       "      <th></th>\n",
       "      <th></th>\n",
       "      <th></th>\n",
       "      <th></th>\n",
       "      <th></th>\n",
       "    </tr>\n",
       "  </thead>\n",
       "  <tbody>\n",
       "    <tr>\n",
       "      <th>#L-81 Cafe</th>\n",
       "      <td>9</td>\n",
       "      <td>9</td>\n",
       "      <td>9</td>\n",
       "      <td>9</td>\n",
       "      <td>9</td>\n",
       "      <td>9</td>\n",
       "      <td>9</td>\n",
       "      <td>9</td>\n",
       "      <td>9</td>\n",
       "      <td>9</td>\n",
       "      <td>9</td>\n",
       "    </tr>\n",
       "    <tr>\n",
       "      <th>#refuel</th>\n",
       "      <td>3</td>\n",
       "      <td>3</td>\n",
       "      <td>3</td>\n",
       "      <td>3</td>\n",
       "      <td>3</td>\n",
       "      <td>3</td>\n",
       "      <td>3</td>\n",
       "      <td>3</td>\n",
       "      <td>3</td>\n",
       "      <td>3</td>\n",
       "      <td>3</td>\n",
       "    </tr>\n",
       "    <tr>\n",
       "      <th>1000 B.C</th>\n",
       "      <td>6</td>\n",
       "      <td>6</td>\n",
       "      <td>6</td>\n",
       "      <td>6</td>\n",
       "      <td>6</td>\n",
       "      <td>6</td>\n",
       "      <td>6</td>\n",
       "      <td>6</td>\n",
       "      <td>6</td>\n",
       "      <td>6</td>\n",
       "      <td>6</td>\n",
       "    </tr>\n",
       "    <tr>\n",
       "      <th>100C</th>\n",
       "      <td>3</td>\n",
       "      <td>3</td>\n",
       "      <td>3</td>\n",
       "      <td>3</td>\n",
       "      <td>3</td>\n",
       "      <td>3</td>\n",
       "      <td>3</td>\n",
       "      <td>3</td>\n",
       "      <td>3</td>\n",
       "      <td>3</td>\n",
       "      <td>3</td>\n",
       "    </tr>\n",
       "    <tr>\n",
       "      <th>1131 Bar + Kitchen</th>\n",
       "      <td>6</td>\n",
       "      <td>6</td>\n",
       "      <td>6</td>\n",
       "      <td>6</td>\n",
       "      <td>6</td>\n",
       "      <td>6</td>\n",
       "      <td>6</td>\n",
       "      <td>6</td>\n",
       "      <td>6</td>\n",
       "      <td>6</td>\n",
       "      <td>6</td>\n",
       "    </tr>\n",
       "  </tbody>\n",
       "</table>\n",
       "</div>"
      ],
      "text/plain": [
       "                    online_order  book_table  rating  votes  location  \\\n",
       "restaurants name                                                        \n",
       "#L-81 Cafe                     9           9       9      9         9   \n",
       "#refuel                        3           3       3      3         3   \n",
       "1000 B.C                       6           6       6      6         6   \n",
       "100C                           3           3       3      3         3   \n",
       "1131 Bar + Kitchen             6           6       6      6         6   \n",
       "\n",
       "                    rest_type  dish_liked  food_type  price(for two people)  \\\n",
       "restaurants name                                                              \n",
       "#L-81 Cafe                  9           9          9                      9   \n",
       "#refuel                     3           3          3                      3   \n",
       "1000 B.C                    6           6          6                      6   \n",
       "100C                        3           3          3                      3   \n",
       "1131 Bar + Kitchen          6           6          6                      6   \n",
       "\n",
       "                    type  city  \n",
       "restaurants name                \n",
       "#L-81 Cafe             9     9  \n",
       "#refuel                3     3  \n",
       "1000 B.C               6     6  \n",
       "100C                   3     3  \n",
       "1131 Bar + Kitchen     6     6  "
      ]
     },
     "execution_count": 13,
     "metadata": {},
     "output_type": "execute_result"
    }
   ],
   "source": [
    "data.groupby('restaurants name').count().head()"
   ]
  },
  {
   "cell_type": "markdown",
   "id": "050635e0",
   "metadata": {
    "papermill": {
     "duration": 0.015249,
     "end_time": "2022-09-17T06:57:25.103862",
     "exception": false,
     "start_time": "2022-09-17T06:57:25.088613",
     "status": "completed"
    },
    "tags": []
   },
   "source": []
  },
  {
   "cell_type": "code",
   "execution_count": 14,
   "id": "a18d4344",
   "metadata": {
    "execution": {
     "iopub.execute_input": "2022-09-17T06:57:25.135943Z",
     "iopub.status.busy": "2022-09-17T06:57:25.135561Z",
     "iopub.status.idle": "2022-09-17T06:57:25.144652Z",
     "shell.execute_reply": "2022-09-17T06:57:25.143512Z"
    },
    "papermill": {
     "duration": 0.02797,
     "end_time": "2022-09-17T06:57:25.146959",
     "exception": false,
     "start_time": "2022-09-17T06:57:25.118989",
     "status": "completed"
    },
    "tags": []
   },
   "outputs": [
    {
     "data": {
      "text/plain": [
       "array(['Yes', 'No'], dtype=object)"
      ]
     },
     "execution_count": 14,
     "metadata": {},
     "output_type": "execute_result"
    }
   ],
   "source": [
    "data.online_order.unique()"
   ]
  },
  {
   "cell_type": "code",
   "execution_count": 15,
   "id": "7b39960e",
   "metadata": {
    "execution": {
     "iopub.execute_input": "2022-09-17T06:57:25.179174Z",
     "iopub.status.busy": "2022-09-17T06:57:25.178749Z",
     "iopub.status.idle": "2022-09-17T06:57:25.189467Z",
     "shell.execute_reply": "2022-09-17T06:57:25.188162Z"
    },
    "papermill": {
     "duration": 0.029754,
     "end_time": "2022-09-17T06:57:25.191930",
     "exception": false,
     "start_time": "2022-09-17T06:57:25.162176",
     "status": "completed"
    },
    "tags": []
   },
   "outputs": [
    {
     "data": {
      "text/plain": [
       "Yes    16448\n",
       "No      6958\n",
       "Name: online_order, dtype: int64"
      ]
     },
     "execution_count": 15,
     "metadata": {},
     "output_type": "execute_result"
    }
   ],
   "source": [
    "data.online_order.value_counts()"
   ]
  },
  {
   "cell_type": "code",
   "execution_count": 16,
   "id": "150370dc",
   "metadata": {
    "execution": {
     "iopub.execute_input": "2022-09-17T06:57:25.225593Z",
     "iopub.status.busy": "2022-09-17T06:57:25.224469Z",
     "iopub.status.idle": "2022-09-17T06:57:25.236359Z",
     "shell.execute_reply": "2022-09-17T06:57:25.235535Z"
    },
    "papermill": {
     "duration": 0.031146,
     "end_time": "2022-09-17T06:57:25.238781",
     "exception": false,
     "start_time": "2022-09-17T06:57:25.207635",
     "status": "completed"
    },
    "tags": []
   },
   "outputs": [
    {
     "data": {
      "text/plain": [
       "No     17264\n",
       "Yes     6142\n",
       "Name: book_table, dtype: int64"
      ]
     },
     "execution_count": 16,
     "metadata": {},
     "output_type": "execute_result"
    }
   ],
   "source": [
    "data.book_table.unique()\n",
    "data.book_table.value_counts()"
   ]
  },
  {
   "cell_type": "code",
   "execution_count": 17,
   "id": "64830415",
   "metadata": {
    "execution": {
     "iopub.execute_input": "2022-09-17T06:57:25.271986Z",
     "iopub.status.busy": "2022-09-17T06:57:25.271578Z",
     "iopub.status.idle": "2022-09-17T06:57:25.284262Z",
     "shell.execute_reply": "2022-09-17T06:57:25.283007Z"
    },
    "papermill": {
     "duration": 0.032028,
     "end_time": "2022-09-17T06:57:25.286548",
     "exception": false,
     "start_time": "2022-09-17T06:57:25.254520",
     "status": "completed"
    },
    "tags": []
   },
   "outputs": [
    {
     "data": {
      "text/plain": [
       "No     17264\n",
       "Yes     6142\n",
       "Name: book_table, dtype: int64"
      ]
     },
     "execution_count": 17,
     "metadata": {},
     "output_type": "execute_result"
    }
   ],
   "source": [
    "data.book_table.unique()\n",
    "data.book_table.value_counts()"
   ]
  },
  {
   "cell_type": "code",
   "execution_count": 18,
   "id": "8e9b0a9e",
   "metadata": {
    "execution": {
     "iopub.execute_input": "2022-09-17T06:57:25.320487Z",
     "iopub.status.busy": "2022-09-17T06:57:25.320094Z",
     "iopub.status.idle": "2022-09-17T06:57:25.328748Z",
     "shell.execute_reply": "2022-09-17T06:57:25.327680Z"
    },
    "papermill": {
     "duration": 0.028353,
     "end_time": "2022-09-17T06:57:25.331004",
     "exception": false,
     "start_time": "2022-09-17T06:57:25.302651",
     "status": "completed"
    },
    "tags": []
   },
   "outputs": [
    {
     "data": {
      "text/plain": [
       "array(['4.1/5', '3.8/5', '3.7/5', '4.6/5', '4.0/5', '4.2/5', '3.9/5',\n",
       "       '3.0/5', '3.6/5', '2.8/5', '4.4/5', '3.1/5', '4.3/5', '2.6/5',\n",
       "       '3.3/5', '3.5/5', '3.8 /5', '3.2/5', '4.5/5', '2.5/5', '2.9/5',\n",
       "       '3.4/5', '2.7/5', '4.7/5', 'NEW', '2.4/5', '2.2/5', '2.3/5',\n",
       "       '4.8/5', '3.9 /5', '4.2 /5', '4.0 /5', '4.1 /5', '2.9 /5',\n",
       "       '2.7 /5', '2.5 /5', '2.6 /5', '4.5 /5', '4.3 /5', '3.7 /5',\n",
       "       '4.4 /5', '4.9/5', '2.1/5', '2.0/5', '1.8/5', '3.4 /5', '3.6 /5',\n",
       "       '3.3 /5', '4.6 /5', '4.9 /5', '3.2 /5', '3.0 /5', '2.8 /5',\n",
       "       '3.5 /5', '3.1 /5', '4.8 /5', '2.3 /5', '4.7 /5', '2.4 /5',\n",
       "       '2.1 /5', '2.2 /5', '2.0 /5', '1.8 /5'], dtype=object)"
      ]
     },
     "execution_count": 18,
     "metadata": {},
     "output_type": "execute_result"
    }
   ],
   "source": [
    "data['rating'].unique()"
   ]
  },
  {
   "cell_type": "code",
   "execution_count": 19,
   "id": "286e5e13",
   "metadata": {
    "execution": {
     "iopub.execute_input": "2022-09-17T06:57:25.365464Z",
     "iopub.status.busy": "2022-09-17T06:57:25.365035Z",
     "iopub.status.idle": "2022-09-17T06:57:25.400342Z",
     "shell.execute_reply": "2022-09-17T06:57:25.399124Z"
    },
    "papermill": {
     "duration": 0.055365,
     "end_time": "2022-09-17T06:57:25.402988",
     "exception": false,
     "start_time": "2022-09-17T06:57:25.347623",
     "status": "completed"
    },
    "tags": []
   },
   "outputs": [
    {
     "data": {
      "text/plain": [
       "0    4.1\n",
       "1    4.1\n",
       "2    3.8\n",
       "3    3.7\n",
       "4    3.8\n",
       "Name: rating, dtype: float64"
      ]
     },
     "execution_count": 19,
     "metadata": {},
     "output_type": "execute_result"
    }
   ],
   "source": [
    "def rate(value):\n",
    "    if(value =='NEW' or value == '-'):\n",
    "        return np.nan\n",
    "    else:\n",
    "        value = str(value).split('/')\n",
    "        value = value[0]\n",
    "        return float(value)\n",
    "    \n",
    "data['rating'] = data['rating'].apply(rate)\n",
    "data['rating'].head()"
   ]
  },
  {
   "cell_type": "code",
   "execution_count": 20,
   "id": "93fb3fe0",
   "metadata": {
    "execution": {
     "iopub.execute_input": "2022-09-17T06:57:25.436778Z",
     "iopub.status.busy": "2022-09-17T06:57:25.436350Z",
     "iopub.status.idle": "2022-09-17T06:57:25.461956Z",
     "shell.execute_reply": "2022-09-17T06:57:25.460286Z"
    },
    "papermill": {
     "duration": 0.045993,
     "end_time": "2022-09-17T06:57:25.464828",
     "exception": false,
     "start_time": "2022-09-17T06:57:25.418835",
     "status": "completed"
    },
    "tags": []
   },
   "outputs": [
    {
     "name": "stdout",
     "output_type": "stream",
     "text": [
      "<class 'pandas.core.frame.DataFrame'>\n",
      "Int64Index: 23406 entries, 0 to 51715\n",
      "Data columns (total 12 columns):\n",
      " #   Column                 Non-Null Count  Dtype  \n",
      "---  ------                 --------------  -----  \n",
      " 0   restaurants name       23406 non-null  object \n",
      " 1   online_order           23406 non-null  object \n",
      " 2   book_table             23406 non-null  object \n",
      " 3   rating                 23259 non-null  float64\n",
      " 4   votes                  23406 non-null  int64  \n",
      " 5   location               23406 non-null  object \n",
      " 6   rest_type              23406 non-null  object \n",
      " 7   dish_liked             23406 non-null  object \n",
      " 8   food_type              23406 non-null  object \n",
      " 9   price(for two people)  23406 non-null  object \n",
      " 10  type                   23406 non-null  object \n",
      " 11  city                   23406 non-null  object \n",
      "dtypes: float64(1), int64(1), object(10)\n",
      "memory usage: 2.3+ MB\n"
     ]
    }
   ],
   "source": [
    "data.info()"
   ]
  },
  {
   "cell_type": "code",
   "execution_count": 21,
   "id": "40bd96a6",
   "metadata": {
    "execution": {
     "iopub.execute_input": "2022-09-17T06:57:25.499730Z",
     "iopub.status.busy": "2022-09-17T06:57:25.499284Z",
     "iopub.status.idle": "2022-09-17T06:57:25.509460Z",
     "shell.execute_reply": "2022-09-17T06:57:25.507927Z"
    },
    "papermill": {
     "duration": 0.030416,
     "end_time": "2022-09-17T06:57:25.511826",
     "exception": false,
     "start_time": "2022-09-17T06:57:25.481410",
     "status": "completed"
    },
    "tags": []
   },
   "outputs": [
    {
     "data": {
      "text/plain": [
       "False    23406\n",
       "Name: votes, dtype: int64"
      ]
     },
     "execution_count": 21,
     "metadata": {},
     "output_type": "execute_result"
    }
   ],
   "source": [
    "data['votes'].isnull().value_counts()"
   ]
  },
  {
   "cell_type": "code",
   "execution_count": 22,
   "id": "7e3cdc6c",
   "metadata": {
    "execution": {
     "iopub.execute_input": "2022-09-17T06:57:25.546133Z",
     "iopub.status.busy": "2022-09-17T06:57:25.545669Z",
     "iopub.status.idle": "2022-09-17T06:57:25.555570Z",
     "shell.execute_reply": "2022-09-17T06:57:25.554444Z"
    },
    "papermill": {
     "duration": 0.029736,
     "end_time": "2022-09-17T06:57:25.558027",
     "exception": false,
     "start_time": "2022-09-17T06:57:25.528291",
     "status": "completed"
    },
    "tags": []
   },
   "outputs": [
    {
     "data": {
      "text/plain": [
       "array([ 775,  787,  918, ..., 4957, 2382,  843])"
      ]
     },
     "execution_count": 22,
     "metadata": {},
     "output_type": "execute_result"
    }
   ],
   "source": [
    "data['votes'].unique()"
   ]
  },
  {
   "cell_type": "code",
   "execution_count": 23,
   "id": "721d17e0",
   "metadata": {
    "execution": {
     "iopub.execute_input": "2022-09-17T06:57:25.592058Z",
     "iopub.status.busy": "2022-09-17T06:57:25.591645Z",
     "iopub.status.idle": "2022-09-17T06:57:25.601798Z",
     "shell.execute_reply": "2022-09-17T06:57:25.600558Z"
    },
    "papermill": {
     "duration": 0.029848,
     "end_time": "2022-09-17T06:57:25.604157",
     "exception": false,
     "start_time": "2022-09-17T06:57:25.574309",
     "status": "completed"
    },
    "tags": []
   },
   "outputs": [
    {
     "data": {
      "text/plain": [
       "False    23406\n",
       "Name: votes, dtype: int64"
      ]
     },
     "execution_count": 23,
     "metadata": {},
     "output_type": "execute_result"
    }
   ],
   "source": [
    "data['votes'].isnull().value_counts()"
   ]
  },
  {
   "cell_type": "code",
   "execution_count": 24,
   "id": "68eb6211",
   "metadata": {
    "execution": {
     "iopub.execute_input": "2022-09-17T06:57:25.638442Z",
     "iopub.status.busy": "2022-09-17T06:57:25.638000Z",
     "iopub.status.idle": "2022-09-17T06:57:25.648083Z",
     "shell.execute_reply": "2022-09-17T06:57:25.646871Z"
    },
    "papermill": {
     "duration": 0.030158,
     "end_time": "2022-09-17T06:57:25.650534",
     "exception": false,
     "start_time": "2022-09-17T06:57:25.620376",
     "status": "completed"
    },
    "tags": []
   },
   "outputs": [
    {
     "data": {
      "text/plain": [
       "array(['Casual Dining', 'Cafe, Casual Dining', 'Quick Bites',\n",
       "       'Casual Dining, Cafe', 'Cafe', 'Quick Bites, Cafe', 'Delivery',\n",
       "       'Dessert Parlor', 'Pub', 'Beverage Shop', 'Bar',\n",
       "       'Takeaway, Delivery', 'Food Truck', 'Quick Bites, Dessert Parlor',\n",
       "       'Pub, Casual Dining', 'Casual Dining, Bar', 'Bakery', 'Sweet Shop',\n",
       "       'Dessert Parlor, Beverage Shop', 'Beverage Shop, Quick Bites',\n",
       "       'Microbrewery, Casual Dining', 'Sweet Shop, Quick Bites', 'Lounge',\n",
       "       'Food Court', 'Cafe, Bakery', 'Microbrewery', 'Kiosk', 'Pub, Bar',\n",
       "       'Casual Dining, Pub', 'Cafe, Quick Bites', 'Lounge, Bar',\n",
       "       'Bakery, Quick Bites', 'Dessert Parlor, Quick Bites',\n",
       "       'Bar, Casual Dining', 'Beverage Shop, Dessert Parlor',\n",
       "       'Casual Dining, Microbrewery', 'Mess', 'Lounge, Casual Dining',\n",
       "       'Cafe, Dessert Parlor', 'Dessert Parlor, Cafe',\n",
       "       'Bakery, Dessert Parlor', 'Quick Bites, Sweet Shop', 'Takeaway',\n",
       "       'Microbrewery, Pub', 'Club', 'Fine Dining', 'Bakery, Cafe',\n",
       "       'Beverage Shop, Cafe', 'Pub, Cafe', 'Casual Dining, Irani Cafee',\n",
       "       'Food Court, Quick Bites', 'Quick Bites, Beverage Shop',\n",
       "       'Fine Dining, Lounge', 'Quick Bites, Bakery', 'Bar, Quick Bites',\n",
       "       'Pub, Microbrewery', 'Microbrewery, Lounge',\n",
       "       'Fine Dining, Microbrewery', 'Fine Dining, Bar',\n",
       "       'Dessert Parlor, Kiosk', 'Cafe, Bar', 'Quick Bites, Food Court',\n",
       "       'Casual Dining, Lounge', 'Microbrewery, Bar', 'Cafe, Lounge',\n",
       "       'Bar, Pub', 'Lounge, Cafe', 'Dessert Parlor, Bakery',\n",
       "       'Club, Casual Dining', 'Lounge, Microbrewery', 'Dhaba',\n",
       "       'Bar, Lounge', 'Food Court, Casual Dining'], dtype=object)"
      ]
     },
     "execution_count": 24,
     "metadata": {},
     "output_type": "execute_result"
    }
   ],
   "source": [
    "data['rest_type'].unique()"
   ]
  },
  {
   "cell_type": "code",
   "execution_count": 25,
   "id": "00a597f0",
   "metadata": {
    "execution": {
     "iopub.execute_input": "2022-09-17T06:57:25.685997Z",
     "iopub.status.busy": "2022-09-17T06:57:25.685578Z",
     "iopub.status.idle": "2022-09-17T06:57:25.697444Z",
     "shell.execute_reply": "2022-09-17T06:57:25.696240Z"
    },
    "papermill": {
     "duration": 0.032659,
     "end_time": "2022-09-17T06:57:25.699987",
     "exception": false,
     "start_time": "2022-09-17T06:57:25.667328",
     "status": "completed"
    },
    "tags": []
   },
   "outputs": [
    {
     "data": {
      "text/plain": [
       "array(['Pasta, Lunch Buffet, Masala Papad, Paneer Lajawab, Tomato Shorba, Dum Biryani, Sweet Corn Soup',\n",
       "       'Momos, Lunch Buffet, Chocolate Nirvana, Thai Green Curry, Paneer Tikka, Dum Biryani, Chicken Biryani',\n",
       "       'Churros, Cannelloni, Minestrone Soup, Hot Chocolate, Pink Sauce Pasta, Salsa, Veg Supreme Pizza',\n",
       "       ...,\n",
       "       'Noodles, Chicken Noodle, Momos, American Chopsuey, Salad, Manchow Soup, Manchurian',\n",
       "       'Chicken Quesadilla, Naan, Breakfast Buffet, Cheesecake, Cocktails, Lunch Buffet, Biryani',\n",
       "       'Biryani, Andhra Meal'], dtype=object)"
      ]
     },
     "execution_count": 25,
     "metadata": {},
     "output_type": "execute_result"
    }
   ],
   "source": [
    "data['dish_liked'].unique()\n"
   ]
  },
  {
   "cell_type": "code",
   "execution_count": 26,
   "id": "7cb731e2",
   "metadata": {
    "execution": {
     "iopub.execute_input": "2022-09-17T06:57:25.737794Z",
     "iopub.status.busy": "2022-09-17T06:57:25.736909Z",
     "iopub.status.idle": "2022-09-17T06:57:25.747790Z",
     "shell.execute_reply": "2022-09-17T06:57:25.746785Z"
    },
    "papermill": {
     "duration": 0.032723,
     "end_time": "2022-09-17T06:57:25.749920",
     "exception": false,
     "start_time": "2022-09-17T06:57:25.717197",
     "status": "completed"
    },
    "tags": []
   },
   "outputs": [
    {
     "data": {
      "text/plain": [
       "False    23406\n",
       "Name: dish_liked, dtype: int64"
      ]
     },
     "execution_count": 26,
     "metadata": {},
     "output_type": "execute_result"
    }
   ],
   "source": [
    "data['dish_liked'].isnull().value_counts()"
   ]
  },
  {
   "cell_type": "code",
   "execution_count": 27,
   "id": "a19ce8f4",
   "metadata": {
    "execution": {
     "iopub.execute_input": "2022-09-17T06:57:25.785555Z",
     "iopub.status.busy": "2022-09-17T06:57:25.785095Z",
     "iopub.status.idle": "2022-09-17T06:57:25.795193Z",
     "shell.execute_reply": "2022-09-17T06:57:25.793948Z"
    },
    "papermill": {
     "duration": 0.031403,
     "end_time": "2022-09-17T06:57:25.798184",
     "exception": false,
     "start_time": "2022-09-17T06:57:25.766781",
     "status": "completed"
    },
    "tags": []
   },
   "outputs": [
    {
     "data": {
      "text/plain": [
       "array(['North Indian, Mughlai, Chinese', 'Chinese, North Indian, Thai',\n",
       "       'Cafe, Mexican, Italian', ..., 'Andhra, Hyderabadi, Biryani',\n",
       "       'Andhra, North Indian, South Indian', 'Thai, Chinese, Momos'],\n",
       "      dtype=object)"
      ]
     },
     "execution_count": 27,
     "metadata": {},
     "output_type": "execute_result"
    }
   ],
   "source": [
    "data['food_type'].unique()"
   ]
  },
  {
   "cell_type": "code",
   "execution_count": 28,
   "id": "11bd1ff8",
   "metadata": {
    "execution": {
     "iopub.execute_input": "2022-09-17T06:57:25.834056Z",
     "iopub.status.busy": "2022-09-17T06:57:25.833657Z",
     "iopub.status.idle": "2022-09-17T06:57:25.844779Z",
     "shell.execute_reply": "2022-09-17T06:57:25.843625Z"
    },
    "papermill": {
     "duration": 0.032572,
     "end_time": "2022-09-17T06:57:25.847540",
     "exception": false,
     "start_time": "2022-09-17T06:57:25.814968",
     "status": "completed"
    },
    "tags": []
   },
   "outputs": [
    {
     "data": {
      "text/plain": [
       "False    23406\n",
       "Name: food_type, dtype: int64"
      ]
     },
     "execution_count": 28,
     "metadata": {},
     "output_type": "execute_result"
    }
   ],
   "source": [
    "data['food_type'].isnull().value_counts()"
   ]
  },
  {
   "cell_type": "code",
   "execution_count": 29,
   "id": "56977567",
   "metadata": {
    "execution": {
     "iopub.execute_input": "2022-09-17T06:57:25.883711Z",
     "iopub.status.busy": "2022-09-17T06:57:25.883315Z",
     "iopub.status.idle": "2022-09-17T06:57:25.891642Z",
     "shell.execute_reply": "2022-09-17T06:57:25.890727Z"
    },
    "papermill": {
     "duration": 0.028811,
     "end_time": "2022-09-17T06:57:25.893816",
     "exception": false,
     "start_time": "2022-09-17T06:57:25.865005",
     "status": "completed"
    },
    "tags": []
   },
   "outputs": [
    {
     "data": {
      "text/plain": [
       "array(['800', '300', '600', '700', '550', '500', '450', '650', '400',\n",
       "       '750', '200', '850', '1,200', '150', '350', '250', '1,500',\n",
       "       '1,300', '1,000', '100', '900', '1,100', '1,600', '950', '230',\n",
       "       '1,700', '1,400', '1,350', '2,200', '2,000', '1,800', '1,900',\n",
       "       '180', '330', '2,500', '2,100', '3,000', '2,800', '3,400', '40',\n",
       "       '1,250', '3,500', '4,000', '2,400', '1,450', '3,200', '6,000',\n",
       "       '1,050', '4,100', '2,300', '120', '2,600', '5,000', '3,700',\n",
       "       '1,650', '2,700', '4,500'], dtype=object)"
      ]
     },
     "execution_count": 29,
     "metadata": {},
     "output_type": "execute_result"
    }
   ],
   "source": [
    "data['price(for two people)'].unique()"
   ]
  },
  {
   "cell_type": "code",
   "execution_count": 30,
   "id": "1a12e1b5",
   "metadata": {
    "execution": {
     "iopub.execute_input": "2022-09-17T06:57:25.930851Z",
     "iopub.status.busy": "2022-09-17T06:57:25.930057Z",
     "iopub.status.idle": "2022-09-17T06:57:25.954678Z",
     "shell.execute_reply": "2022-09-17T06:57:25.953458Z"
    },
    "papermill": {
     "duration": 0.045753,
     "end_time": "2022-09-17T06:57:25.957370",
     "exception": false,
     "start_time": "2022-09-17T06:57:25.911617",
     "status": "completed"
    },
    "tags": []
   },
   "outputs": [],
   "source": [
    "def comma(value):\n",
    "    value = str(value)\n",
    "    if ',' in  value:\n",
    "        value = value.replace(',','')\n",
    "        return float(value)\n",
    "    else:\n",
    "        return float(value)\n",
    "    \n",
    "data['price(for two people)'] = data['price(for two people)'].apply(comma)\n"
   ]
  },
  {
   "cell_type": "code",
   "execution_count": 31,
   "id": "4f8b6dbd",
   "metadata": {
    "execution": {
     "iopub.execute_input": "2022-09-17T06:57:25.994008Z",
     "iopub.status.busy": "2022-09-17T06:57:25.993573Z",
     "iopub.status.idle": "2022-09-17T06:57:26.003347Z",
     "shell.execute_reply": "2022-09-17T06:57:26.001771Z"
    },
    "papermill": {
     "duration": 0.031153,
     "end_time": "2022-09-17T06:57:26.006021",
     "exception": false,
     "start_time": "2022-09-17T06:57:25.974868",
     "status": "completed"
    },
    "tags": []
   },
   "outputs": [
    {
     "data": {
      "text/plain": [
       "0    800.0\n",
       "1    800.0\n",
       "2    800.0\n",
       "3    300.0\n",
       "4    600.0\n",
       "Name: price(for two people), dtype: float64"
      ]
     },
     "execution_count": 31,
     "metadata": {},
     "output_type": "execute_result"
    }
   ],
   "source": [
    "data['price(for two people)'].head()\n"
   ]
  },
  {
   "cell_type": "code",
   "execution_count": 32,
   "id": "eeff5355",
   "metadata": {
    "execution": {
     "iopub.execute_input": "2022-09-17T06:57:26.043837Z",
     "iopub.status.busy": "2022-09-17T06:57:26.043390Z",
     "iopub.status.idle": "2022-09-17T06:57:26.053893Z",
     "shell.execute_reply": "2022-09-17T06:57:26.052566Z"
    },
    "papermill": {
     "duration": 0.032492,
     "end_time": "2022-09-17T06:57:26.056446",
     "exception": false,
     "start_time": "2022-09-17T06:57:26.023954",
     "status": "completed"
    },
    "tags": []
   },
   "outputs": [
    {
     "data": {
      "text/plain": [
       "array(['Buffet', 'Cafes', 'Delivery', 'Desserts', 'Dine-out',\n",
       "       'Drinks & nightlife', 'Pubs and bars'], dtype=object)"
      ]
     },
     "execution_count": 32,
     "metadata": {},
     "output_type": "execute_result"
    }
   ],
   "source": [
    "data['type'].unique()"
   ]
  },
  {
   "cell_type": "code",
   "execution_count": 33,
   "id": "026dada2",
   "metadata": {
    "execution": {
     "iopub.execute_input": "2022-09-17T06:57:26.093845Z",
     "iopub.status.busy": "2022-09-17T06:57:26.093402Z",
     "iopub.status.idle": "2022-09-17T06:57:26.103371Z",
     "shell.execute_reply": "2022-09-17T06:57:26.102151Z"
    },
    "papermill": {
     "duration": 0.031033,
     "end_time": "2022-09-17T06:57:26.105716",
     "exception": false,
     "start_time": "2022-09-17T06:57:26.074683",
     "status": "completed"
    },
    "tags": []
   },
   "outputs": [
    {
     "data": {
      "text/plain": [
       "array(['Banashankari', 'Bannerghatta Road', 'Basavanagudi', 'Bellandur',\n",
       "       'Brigade Road', 'Brookefield', 'BTM', 'Church Street',\n",
       "       'Electronic City', 'Frazer Town', 'HSR', 'Indiranagar',\n",
       "       'Jayanagar', 'JP Nagar', 'Kalyan Nagar', 'Kammanahalli',\n",
       "       'Koramangala 4th Block', 'Koramangala 5th Block',\n",
       "       'Koramangala 6th Block', 'Koramangala 7th Block', 'Lavelle Road',\n",
       "       'Malleshwaram', 'Marathahalli', 'MG Road', 'New BEL Road',\n",
       "       'Old Airport Road', 'Rajajinagar', 'Residency Road',\n",
       "       'Sarjapur Road', 'Whitefield'], dtype=object)"
      ]
     },
     "execution_count": 33,
     "metadata": {},
     "output_type": "execute_result"
    }
   ],
   "source": [
    "data['city'].unique()"
   ]
  },
  {
   "cell_type": "code",
   "execution_count": 34,
   "id": "537b077d",
   "metadata": {
    "execution": {
     "iopub.execute_input": "2022-09-17T06:57:26.143130Z",
     "iopub.status.busy": "2022-09-17T06:57:26.141986Z",
     "iopub.status.idle": "2022-09-17T06:57:26.181233Z",
     "shell.execute_reply": "2022-09-17T06:57:26.180057Z"
    },
    "papermill": {
     "duration": 0.060486,
     "end_time": "2022-09-17T06:57:26.183695",
     "exception": false,
     "start_time": "2022-09-17T06:57:26.123209",
     "status": "completed"
    },
    "tags": []
   },
   "outputs": [
    {
     "data": {
      "text/plain": [
       "False    23364\n",
       "True        42\n",
       "dtype: int64"
      ]
     },
     "execution_count": 34,
     "metadata": {},
     "output_type": "execute_result"
    }
   ],
   "source": [
    "data.duplicated().value_counts() "
   ]
  },
  {
   "cell_type": "code",
   "execution_count": 35,
   "id": "46814359",
   "metadata": {
    "execution": {
     "iopub.execute_input": "2022-09-17T06:57:26.220775Z",
     "iopub.status.busy": "2022-09-17T06:57:26.220396Z",
     "iopub.status.idle": "2022-09-17T06:57:26.259058Z",
     "shell.execute_reply": "2022-09-17T06:57:26.257890Z"
    },
    "papermill": {
     "duration": 0.059931,
     "end_time": "2022-09-17T06:57:26.261787",
     "exception": false,
     "start_time": "2022-09-17T06:57:26.201856",
     "status": "completed"
    },
    "tags": []
   },
   "outputs": [],
   "source": [
    "data.drop_duplicates(keep='last',inplace=True)\n",
    "data.reset_index(drop=True,inplace=True)"
   ]
  },
  {
   "cell_type": "code",
   "execution_count": 36,
   "id": "27c11e83",
   "metadata": {
    "execution": {
     "iopub.execute_input": "2022-09-17T06:57:26.297876Z",
     "iopub.status.busy": "2022-09-17T06:57:26.297452Z",
     "iopub.status.idle": "2022-09-17T06:57:26.333236Z",
     "shell.execute_reply": "2022-09-17T06:57:26.331959Z"
    },
    "papermill": {
     "duration": 0.0566,
     "end_time": "2022-09-17T06:57:26.335690",
     "exception": false,
     "start_time": "2022-09-17T06:57:26.279090",
     "status": "completed"
    },
    "tags": []
   },
   "outputs": [
    {
     "data": {
      "text/plain": [
       "False    23364\n",
       "dtype: int64"
      ]
     },
     "execution_count": 36,
     "metadata": {},
     "output_type": "execute_result"
    }
   ],
   "source": [
    "data.duplicated().value_counts()"
   ]
  },
  {
   "cell_type": "code",
   "execution_count": 37,
   "id": "ef1ba847",
   "metadata": {
    "execution": {
     "iopub.execute_input": "2022-09-17T06:57:26.372083Z",
     "iopub.status.busy": "2022-09-17T06:57:26.371680Z",
     "iopub.status.idle": "2022-09-17T06:57:26.390461Z",
     "shell.execute_reply": "2022-09-17T06:57:26.389320Z"
    },
    "papermill": {
     "duration": 0.039519,
     "end_time": "2022-09-17T06:57:26.392779",
     "exception": false,
     "start_time": "2022-09-17T06:57:26.353260",
     "status": "completed"
    },
    "tags": []
   },
   "outputs": [
    {
     "data": {
      "text/html": [
       "<div>\n",
       "<style scoped>\n",
       "    .dataframe tbody tr th:only-of-type {\n",
       "        vertical-align: middle;\n",
       "    }\n",
       "\n",
       "    .dataframe tbody tr th {\n",
       "        vertical-align: top;\n",
       "    }\n",
       "\n",
       "    .dataframe thead th {\n",
       "        text-align: right;\n",
       "    }\n",
       "</style>\n",
       "<table border=\"1\" class=\"dataframe\">\n",
       "  <thead>\n",
       "    <tr style=\"text-align: right;\">\n",
       "      <th></th>\n",
       "      <th>restaurants name</th>\n",
       "      <th>online_order</th>\n",
       "      <th>book_table</th>\n",
       "      <th>rating</th>\n",
       "      <th>votes</th>\n",
       "      <th>location</th>\n",
       "      <th>rest_type</th>\n",
       "      <th>dish_liked</th>\n",
       "      <th>food_type</th>\n",
       "      <th>price(for two people)</th>\n",
       "      <th>type</th>\n",
       "      <th>city</th>\n",
       "    </tr>\n",
       "  </thead>\n",
       "  <tbody>\n",
       "    <tr>\n",
       "      <th>0</th>\n",
       "      <td>Jalsa</td>\n",
       "      <td>Yes</td>\n",
       "      <td>Yes</td>\n",
       "      <td>4.1</td>\n",
       "      <td>775</td>\n",
       "      <td>Banashankari</td>\n",
       "      <td>Casual Dining</td>\n",
       "      <td>Pasta, Lunch Buffet, Masala Papad, Paneer Laja...</td>\n",
       "      <td>North Indian, Mughlai, Chinese</td>\n",
       "      <td>800.0</td>\n",
       "      <td>Buffet</td>\n",
       "      <td>Banashankari</td>\n",
       "    </tr>\n",
       "    <tr>\n",
       "      <th>1</th>\n",
       "      <td>Spice Elephant</td>\n",
       "      <td>Yes</td>\n",
       "      <td>No</td>\n",
       "      <td>4.1</td>\n",
       "      <td>787</td>\n",
       "      <td>Banashankari</td>\n",
       "      <td>Casual Dining</td>\n",
       "      <td>Momos, Lunch Buffet, Chocolate Nirvana, Thai G...</td>\n",
       "      <td>Chinese, North Indian, Thai</td>\n",
       "      <td>800.0</td>\n",
       "      <td>Buffet</td>\n",
       "      <td>Banashankari</td>\n",
       "    </tr>\n",
       "    <tr>\n",
       "      <th>2</th>\n",
       "      <td>San Churro Cafe</td>\n",
       "      <td>Yes</td>\n",
       "      <td>No</td>\n",
       "      <td>3.8</td>\n",
       "      <td>918</td>\n",
       "      <td>Banashankari</td>\n",
       "      <td>Cafe, Casual Dining</td>\n",
       "      <td>Churros, Cannelloni, Minestrone Soup, Hot Choc...</td>\n",
       "      <td>Cafe, Mexican, Italian</td>\n",
       "      <td>800.0</td>\n",
       "      <td>Buffet</td>\n",
       "      <td>Banashankari</td>\n",
       "    </tr>\n",
       "    <tr>\n",
       "      <th>3</th>\n",
       "      <td>Addhuri Udupi Bhojana</td>\n",
       "      <td>No</td>\n",
       "      <td>No</td>\n",
       "      <td>3.7</td>\n",
       "      <td>88</td>\n",
       "      <td>Banashankari</td>\n",
       "      <td>Quick Bites</td>\n",
       "      <td>Masala Dosa</td>\n",
       "      <td>South Indian, North Indian</td>\n",
       "      <td>300.0</td>\n",
       "      <td>Buffet</td>\n",
       "      <td>Banashankari</td>\n",
       "    </tr>\n",
       "    <tr>\n",
       "      <th>4</th>\n",
       "      <td>Grand Village</td>\n",
       "      <td>No</td>\n",
       "      <td>No</td>\n",
       "      <td>3.8</td>\n",
       "      <td>166</td>\n",
       "      <td>Basavanagudi</td>\n",
       "      <td>Casual Dining</td>\n",
       "      <td>Panipuri, Gol Gappe</td>\n",
       "      <td>North Indian, Rajasthani</td>\n",
       "      <td>600.0</td>\n",
       "      <td>Buffet</td>\n",
       "      <td>Banashankari</td>\n",
       "    </tr>\n",
       "  </tbody>\n",
       "</table>\n",
       "</div>"
      ],
      "text/plain": [
       "        restaurants name online_order book_table  rating  votes      location  \\\n",
       "0                  Jalsa          Yes        Yes     4.1    775  Banashankari   \n",
       "1         Spice Elephant          Yes         No     4.1    787  Banashankari   \n",
       "2        San Churro Cafe          Yes         No     3.8    918  Banashankari   \n",
       "3  Addhuri Udupi Bhojana           No         No     3.7     88  Banashankari   \n",
       "4          Grand Village           No         No     3.8    166  Basavanagudi   \n",
       "\n",
       "             rest_type                                         dish_liked  \\\n",
       "0        Casual Dining  Pasta, Lunch Buffet, Masala Papad, Paneer Laja...   \n",
       "1        Casual Dining  Momos, Lunch Buffet, Chocolate Nirvana, Thai G...   \n",
       "2  Cafe, Casual Dining  Churros, Cannelloni, Minestrone Soup, Hot Choc...   \n",
       "3          Quick Bites                                        Masala Dosa   \n",
       "4        Casual Dining                                Panipuri, Gol Gappe   \n",
       "\n",
       "                        food_type  price(for two people)    type          city  \n",
       "0  North Indian, Mughlai, Chinese                  800.0  Buffet  Banashankari  \n",
       "1     Chinese, North Indian, Thai                  800.0  Buffet  Banashankari  \n",
       "2          Cafe, Mexican, Italian                  800.0  Buffet  Banashankari  \n",
       "3      South Indian, North Indian                  300.0  Buffet  Banashankari  \n",
       "4        North Indian, Rajasthani                  600.0  Buffet  Banashankari  "
      ]
     },
     "execution_count": 37,
     "metadata": {},
     "output_type": "execute_result"
    }
   ],
   "source": [
    "data.head()"
   ]
  },
  {
   "cell_type": "code",
   "execution_count": 38,
   "id": "7f64429c",
   "metadata": {
    "execution": {
     "iopub.execute_input": "2022-09-17T06:57:26.429809Z",
     "iopub.status.busy": "2022-09-17T06:57:26.429417Z",
     "iopub.status.idle": "2022-09-17T06:57:26.452975Z",
     "shell.execute_reply": "2022-09-17T06:57:26.451777Z"
    },
    "papermill": {
     "duration": 0.045077,
     "end_time": "2022-09-17T06:57:26.455612",
     "exception": false,
     "start_time": "2022-09-17T06:57:26.410535",
     "status": "completed"
    },
    "tags": []
   },
   "outputs": [
    {
     "name": "stdout",
     "output_type": "stream",
     "text": [
      "<class 'pandas.core.frame.DataFrame'>\n",
      "RangeIndex: 23364 entries, 0 to 23363\n",
      "Data columns (total 12 columns):\n",
      " #   Column                 Non-Null Count  Dtype  \n",
      "---  ------                 --------------  -----  \n",
      " 0   restaurants name       23364 non-null  object \n",
      " 1   online_order           23364 non-null  object \n",
      " 2   book_table             23364 non-null  object \n",
      " 3   rating                 23218 non-null  float64\n",
      " 4   votes                  23364 non-null  int64  \n",
      " 5   location               23364 non-null  object \n",
      " 6   rest_type              23364 non-null  object \n",
      " 7   dish_liked             23364 non-null  object \n",
      " 8   food_type              23364 non-null  object \n",
      " 9   price(for two people)  23364 non-null  float64\n",
      " 10  type                   23364 non-null  object \n",
      " 11  city                   23364 non-null  object \n",
      "dtypes: float64(2), int64(1), object(9)\n",
      "memory usage: 2.1+ MB\n"
     ]
    }
   ],
   "source": [
    "data.info()"
   ]
  },
  {
   "cell_type": "code",
   "execution_count": 39,
   "id": "e3952da1",
   "metadata": {
    "execution": {
     "iopub.execute_input": "2022-09-17T06:57:26.493453Z",
     "iopub.status.busy": "2022-09-17T06:57:26.492565Z",
     "iopub.status.idle": "2022-09-17T06:57:27.609790Z",
     "shell.execute_reply": "2022-09-17T06:57:27.608541Z"
    },
    "papermill": {
     "duration": 1.138974,
     "end_time": "2022-09-17T06:57:27.612633",
     "exception": false,
     "start_time": "2022-09-17T06:57:26.473659",
     "status": "completed"
    },
    "tags": []
   },
   "outputs": [],
   "source": [
    "import seaborn as sns\n",
    "import matplotlib.pyplot as plt"
   ]
  },
  {
   "cell_type": "code",
   "execution_count": 40,
   "id": "b6d7491b",
   "metadata": {
    "execution": {
     "iopub.execute_input": "2022-09-17T06:57:27.650341Z",
     "iopub.status.busy": "2022-09-17T06:57:27.649820Z",
     "iopub.status.idle": "2022-09-17T06:57:27.667380Z",
     "shell.execute_reply": "2022-09-17T06:57:27.666491Z"
    },
    "papermill": {
     "duration": 0.038976,
     "end_time": "2022-09-17T06:57:27.669622",
     "exception": false,
     "start_time": "2022-09-17T06:57:27.630646",
     "status": "completed"
    },
    "tags": []
   },
   "outputs": [
    {
     "data": {
      "text/html": [
       "<div>\n",
       "<style scoped>\n",
       "    .dataframe tbody tr th:only-of-type {\n",
       "        vertical-align: middle;\n",
       "    }\n",
       "\n",
       "    .dataframe tbody tr th {\n",
       "        vertical-align: top;\n",
       "    }\n",
       "\n",
       "    .dataframe thead th {\n",
       "        text-align: right;\n",
       "    }\n",
       "</style>\n",
       "<table border=\"1\" class=\"dataframe\">\n",
       "  <thead>\n",
       "    <tr style=\"text-align: right;\">\n",
       "      <th></th>\n",
       "      <th>restaurants name</th>\n",
       "      <th>online_order</th>\n",
       "      <th>book_table</th>\n",
       "      <th>rating</th>\n",
       "      <th>votes</th>\n",
       "      <th>location</th>\n",
       "      <th>rest_type</th>\n",
       "      <th>dish_liked</th>\n",
       "      <th>food_type</th>\n",
       "      <th>price(for two people)</th>\n",
       "      <th>type</th>\n",
       "      <th>city</th>\n",
       "    </tr>\n",
       "  </thead>\n",
       "  <tbody>\n",
       "    <tr>\n",
       "      <th>0</th>\n",
       "      <td>Jalsa</td>\n",
       "      <td>Yes</td>\n",
       "      <td>Yes</td>\n",
       "      <td>4.1</td>\n",
       "      <td>775</td>\n",
       "      <td>Banashankari</td>\n",
       "      <td>Casual Dining</td>\n",
       "      <td>Pasta, Lunch Buffet, Masala Papad, Paneer Laja...</td>\n",
       "      <td>North Indian, Mughlai, Chinese</td>\n",
       "      <td>800.0</td>\n",
       "      <td>Buffet</td>\n",
       "      <td>Banashankari</td>\n",
       "    </tr>\n",
       "    <tr>\n",
       "      <th>1</th>\n",
       "      <td>Spice Elephant</td>\n",
       "      <td>Yes</td>\n",
       "      <td>No</td>\n",
       "      <td>4.1</td>\n",
       "      <td>787</td>\n",
       "      <td>Banashankari</td>\n",
       "      <td>Casual Dining</td>\n",
       "      <td>Momos, Lunch Buffet, Chocolate Nirvana, Thai G...</td>\n",
       "      <td>Chinese, North Indian, Thai</td>\n",
       "      <td>800.0</td>\n",
       "      <td>Buffet</td>\n",
       "      <td>Banashankari</td>\n",
       "    </tr>\n",
       "    <tr>\n",
       "      <th>2</th>\n",
       "      <td>San Churro Cafe</td>\n",
       "      <td>Yes</td>\n",
       "      <td>No</td>\n",
       "      <td>3.8</td>\n",
       "      <td>918</td>\n",
       "      <td>Banashankari</td>\n",
       "      <td>Cafe, Casual Dining</td>\n",
       "      <td>Churros, Cannelloni, Minestrone Soup, Hot Choc...</td>\n",
       "      <td>Cafe, Mexican, Italian</td>\n",
       "      <td>800.0</td>\n",
       "      <td>Buffet</td>\n",
       "      <td>Banashankari</td>\n",
       "    </tr>\n",
       "    <tr>\n",
       "      <th>3</th>\n",
       "      <td>Addhuri Udupi Bhojana</td>\n",
       "      <td>No</td>\n",
       "      <td>No</td>\n",
       "      <td>3.7</td>\n",
       "      <td>88</td>\n",
       "      <td>Banashankari</td>\n",
       "      <td>Quick Bites</td>\n",
       "      <td>Masala Dosa</td>\n",
       "      <td>South Indian, North Indian</td>\n",
       "      <td>300.0</td>\n",
       "      <td>Buffet</td>\n",
       "      <td>Banashankari</td>\n",
       "    </tr>\n",
       "    <tr>\n",
       "      <th>4</th>\n",
       "      <td>Grand Village</td>\n",
       "      <td>No</td>\n",
       "      <td>No</td>\n",
       "      <td>3.8</td>\n",
       "      <td>166</td>\n",
       "      <td>Basavanagudi</td>\n",
       "      <td>Casual Dining</td>\n",
       "      <td>Panipuri, Gol Gappe</td>\n",
       "      <td>North Indian, Rajasthani</td>\n",
       "      <td>600.0</td>\n",
       "      <td>Buffet</td>\n",
       "      <td>Banashankari</td>\n",
       "    </tr>\n",
       "  </tbody>\n",
       "</table>\n",
       "</div>"
      ],
      "text/plain": [
       "        restaurants name online_order book_table  rating  votes      location  \\\n",
       "0                  Jalsa          Yes        Yes     4.1    775  Banashankari   \n",
       "1         Spice Elephant          Yes         No     4.1    787  Banashankari   \n",
       "2        San Churro Cafe          Yes         No     3.8    918  Banashankari   \n",
       "3  Addhuri Udupi Bhojana           No         No     3.7     88  Banashankari   \n",
       "4          Grand Village           No         No     3.8    166  Basavanagudi   \n",
       "\n",
       "             rest_type                                         dish_liked  \\\n",
       "0        Casual Dining  Pasta, Lunch Buffet, Masala Papad, Paneer Laja...   \n",
       "1        Casual Dining  Momos, Lunch Buffet, Chocolate Nirvana, Thai G...   \n",
       "2  Cafe, Casual Dining  Churros, Cannelloni, Minestrone Soup, Hot Choc...   \n",
       "3          Quick Bites                                        Masala Dosa   \n",
       "4        Casual Dining                                Panipuri, Gol Gappe   \n",
       "\n",
       "                        food_type  price(for two people)    type          city  \n",
       "0  North Indian, Mughlai, Chinese                  800.0  Buffet  Banashankari  \n",
       "1     Chinese, North Indian, Thai                  800.0  Buffet  Banashankari  \n",
       "2          Cafe, Mexican, Italian                  800.0  Buffet  Banashankari  \n",
       "3      South Indian, North Indian                  300.0  Buffet  Banashankari  \n",
       "4        North Indian, Rajasthani                  600.0  Buffet  Banashankari  "
      ]
     },
     "execution_count": 40,
     "metadata": {},
     "output_type": "execute_result"
    }
   ],
   "source": [
    "data.head()"
   ]
  },
  {
   "cell_type": "code",
   "execution_count": 41,
   "id": "9cb03b7b",
   "metadata": {
    "execution": {
     "iopub.execute_input": "2022-09-17T06:57:27.707619Z",
     "iopub.status.busy": "2022-09-17T06:57:27.706785Z",
     "iopub.status.idle": "2022-09-17T06:57:27.946289Z",
     "shell.execute_reply": "2022-09-17T06:57:27.945141Z"
    },
    "papermill": {
     "duration": 0.261625,
     "end_time": "2022-09-17T06:57:27.949203",
     "exception": false,
     "start_time": "2022-09-17T06:57:27.687578",
     "status": "completed"
    },
    "tags": []
   },
   "outputs": [
    {
     "data": {
      "image/png": "[encoded data removed]",
      "text/plain": [
       "<Figure size 720x360 with 1 Axes>"
      ]
     },
     "metadata": {
      "needs_background": "light"
     },
     "output_type": "display_data"
    }
   ],
   "source": [
    "plt.figure(figsize=(10,5))\n",
    "sns.countplot(x='online_order',data=data) # countplot gives us count of the values\n",
    "plt.show()"
   ]
  },
  {
   "cell_type": "code",
   "execution_count": 42,
   "id": "fc356ff8",
   "metadata": {
    "execution": {
     "iopub.execute_input": "2022-09-17T06:57:27.989771Z",
     "iopub.status.busy": "2022-09-17T06:57:27.989034Z",
     "iopub.status.idle": "2022-09-17T06:57:28.188812Z",
     "shell.execute_reply": "2022-09-17T06:57:28.187662Z"
    },
    "papermill": {
     "duration": 0.223089,
     "end_time": "2022-09-17T06:57:28.191474",
     "exception": false,
     "start_time": "2022-09-17T06:57:27.968385",
     "status": "completed"
    },
    "tags": []
   },
   "outputs": [
    {
     "data": {
      "image/png": "[encoded data removed]",
      "text/plain": [
       "<Figure size 720x360 with 1 Axes>"
      ]
     },
     "metadata": {
      "needs_background": "light"
     },
     "output_type": "display_data"
    }
   ],
   "source": [
    "plt.figure(figsize=(10,5))\n",
    "sns.countplot(x='book_table',data=data) \n",
    "plt.show()"
   ]
  },
  {
   "cell_type": "code",
   "execution_count": 43,
   "id": "550e03d9",
   "metadata": {
    "execution": {
     "iopub.execute_input": "2022-09-17T06:57:28.231302Z",
     "iopub.status.busy": "2022-09-17T06:57:28.230831Z",
     "iopub.status.idle": "2022-09-17T06:57:38.894500Z",
     "shell.execute_reply": "2022-09-17T06:57:38.893116Z"
    },
    "papermill": {
     "duration": 10.687109,
     "end_time": "2022-09-17T06:57:38.897878",
     "exception": false,
     "start_time": "2022-09-17T06:57:28.210769",
     "status": "completed"
    },
    "tags": []
   },
   "outputs": [
    {
     "data": {
      "text/plain": [
       "<Figure size 1152x720 with 0 Axes>"
      ]
     },
     "metadata": {},
     "output_type": "display_data"
    },
    {
     "data": {
      "image/png": "[encoded data removed]",
      "text/plain": [
       "<Figure size 610.25x540 with 12 Axes>"
      ]
     },
     "metadata": {
      "needs_background": "light"
     },
     "output_type": "display_data"
    }
   ],
   "source": [
    "plt.figure(figsize=(16,10))\n",
    "sns.pairplot(data=data, hue='online_order')\n",
    "plt.show()"
   ]
  },
  {
   "cell_type": "code",
   "execution_count": 44,
   "id": "7972e888",
   "metadata": {
    "execution": {
     "iopub.execute_input": "2022-09-17T06:57:38.943026Z",
     "iopub.status.busy": "2022-09-17T06:57:38.942625Z",
     "iopub.status.idle": "2022-09-17T06:57:40.343346Z",
     "shell.execute_reply": "2022-09-17T06:57:40.342002Z"
    },
    "papermill": {
     "duration": 1.426996,
     "end_time": "2022-09-17T06:57:40.346089",
     "exception": false,
     "start_time": "2022-09-17T06:57:38.919093",
     "status": "completed"
    },
    "tags": []
   },
   "outputs": [
    {
     "name": "stderr",
     "output_type": "stream",
     "text": [
      "/opt/conda/lib/python3.7/site-packages/seaborn/_decorators.py:43: FutureWarning: Pass the following variable as a keyword arg: x. From version 0.12, the only valid positional argument will be `data`, and passing other arguments without an explicit keyword will result in an error or misinterpretation.\n",
      "  FutureWarning\n"
     ]
    },
    {
     "data": {
      "image/png": "[encoded data removed]",
      "text/plain": [
       "<Figure size 1152x720 with 1 Axes>"
      ]
     },
     "metadata": {
      "needs_background": "light"
     },
     "output_type": "display_data"
    }
   ],
   "source": [
    "plt.figure(figsize=(16,10))\n",
    "sns.countplot(data['location'])\n",
    "plt.xticks(rotation='90')\n",
    "plt.show()"
   ]
  },
  {
   "cell_type": "code",
   "execution_count": 45,
   "id": "a09808cd",
   "metadata": {
    "execution": {
     "iopub.execute_input": "2022-09-17T06:57:40.392028Z",
     "iopub.status.busy": "2022-09-17T06:57:40.391627Z",
     "iopub.status.idle": "2022-09-17T06:57:41.028464Z",
     "shell.execute_reply": "2022-09-17T06:57:41.027529Z"
    },
    "papermill": {
     "duration": 0.662459,
     "end_time": "2022-09-17T06:57:41.030922",
     "exception": false,
     "start_time": "2022-09-17T06:57:40.368463",
     "status": "completed"
    },
    "tags": []
   },
   "outputs": [
    {
     "name": "stderr",
     "output_type": "stream",
     "text": [
      "/opt/conda/lib/python3.7/site-packages/seaborn/distributions.py:2619: FutureWarning: `distplot` is a deprecated function and will be removed in a future version. Please adapt your code to use either `displot` (a figure-level function with similar flexibility) or `histplot` (an axes-level function for histograms).\n",
      "  warnings.warn(msg, FutureWarning)\n"
     ]
    },
    {
     "data": {
      "text/plain": [
       "<AxesSubplot:xlabel='rating', ylabel='Density'>"
      ]
     },
     "execution_count": 45,
     "metadata": {},
     "output_type": "execute_result"
    },
    {
     "data": {
      "image/png": "[encoded data removed]",
      "text/plain": [
       "<Figure size 432x288 with 1 Axes>"
      ]
     },
     "metadata": {
      "needs_background": "light"
     },
     "output_type": "display_data"
    }
   ],
   "source": [
    "sns.distplot(data['rating'])"
   ]
  },
  {
   "cell_type": "code",
   "execution_count": 46,
   "id": "1b7239af",
   "metadata": {
    "execution": {
     "iopub.execute_input": "2022-09-17T06:57:41.078253Z",
     "iopub.status.busy": "2022-09-17T06:57:41.077534Z",
     "iopub.status.idle": "2022-09-17T06:57:42.236040Z",
     "shell.execute_reply": "2022-09-17T06:57:42.234764Z"
    },
    "papermill": {
     "duration": 1.18476,
     "end_time": "2022-09-17T06:57:42.238482",
     "exception": false,
     "start_time": "2022-09-17T06:57:41.053722",
     "status": "completed"
    },
    "tags": []
   },
   "outputs": [
    {
     "data": {
      "image/png": "[encoded data removed]",
      "text/plain": [
       "<Figure size 1152x720 with 1 Axes>"
      ]
     },
     "metadata": {
      "needs_background": "light"
     },
     "output_type": "display_data"
    }
   ],
   "source": [
    "plt.figure(figsize=(16,10))\n",
    "sns.scatterplot(x='type',y='rating',hue='votes',data=data)\n",
    "plt.show()"
   ]
  },
  {
   "cell_type": "code",
   "execution_count": 47,
   "id": "4523d8c0",
   "metadata": {
    "execution": {
     "iopub.execute_input": "2022-09-17T06:57:42.286877Z",
     "iopub.status.busy": "2022-09-17T06:57:42.286476Z",
     "iopub.status.idle": "2022-09-17T06:57:42.303417Z",
     "shell.execute_reply": "2022-09-17T06:57:42.302120Z"
    },
    "papermill": {
     "duration": 0.044452,
     "end_time": "2022-09-17T06:57:42.306121",
     "exception": false,
     "start_time": "2022-09-17T06:57:42.261669",
     "status": "completed"
    },
    "tags": []
   },
   "outputs": [],
   "source": [
    "South_India=len([i for i in data['food_type'] if 'South India' in i])\n",
    "North_India=len([i for i in data['food_type'] if 'North India' in i])\n",
    "restaurant_count=[South_India,North_India] #creating list\n",
    "Food_Type=['South India','North India']\n",
    "df = pd.DataFrame({'Food_Type':Food_Type,'Restaurant_count':restaurant_count})#.set_index('Food_Type')# creating dataset of extracted data"
   ]
  },
  {
   "cell_type": "code",
   "execution_count": 48,
   "id": "307ed9cd",
   "metadata": {
    "execution": {
     "iopub.execute_input": "2022-09-17T06:57:42.354965Z",
     "iopub.status.busy": "2022-09-17T06:57:42.354581Z",
     "iopub.status.idle": "2022-09-17T06:57:42.527929Z",
     "shell.execute_reply": "2022-09-17T06:57:42.526790Z"
    },
    "papermill": {
     "duration": 0.2012,
     "end_time": "2022-09-17T06:57:42.530668",
     "exception": false,
     "start_time": "2022-09-17T06:57:42.329468",
     "status": "completed"
    },
    "tags": []
   },
   "outputs": [
    {
     "data": {
      "image/png": "[encoded data removed]",
      "text/plain": [
       "<Figure size 432x288 with 1 Axes>"
      ]
     },
     "metadata": {
      "needs_background": "light"
     },
     "output_type": "display_data"
    }
   ],
   "source": [
    "sns.barplot(x='Food_Type',y='Restaurant_count',data=df) \n",
    "plt.show()"
   ]
  },
  {
   "cell_type": "code",
   "execution_count": 49,
   "id": "804dad6e",
   "metadata": {
    "execution": {
     "iopub.execute_input": "2022-09-17T06:57:42.579624Z",
     "iopub.status.busy": "2022-09-17T06:57:42.578861Z",
     "iopub.status.idle": "2022-09-17T06:57:42.599634Z",
     "shell.execute_reply": "2022-09-17T06:57:42.598714Z"
    },
    "papermill": {
     "duration": 0.048187,
     "end_time": "2022-09-17T06:57:42.601943",
     "exception": false,
     "start_time": "2022-09-17T06:57:42.553756",
     "status": "completed"
    },
    "tags": []
   },
   "outputs": [
    {
     "data": {
      "text/html": [
       "<div>\n",
       "<style scoped>\n",
       "    .dataframe tbody tr th:only-of-type {\n",
       "        vertical-align: middle;\n",
       "    }\n",
       "\n",
       "    .dataframe tbody tr th {\n",
       "        vertical-align: top;\n",
       "    }\n",
       "\n",
       "    .dataframe thead th {\n",
       "        text-align: right;\n",
       "    }\n",
       "</style>\n",
       "<table border=\"1\" class=\"dataframe\">\n",
       "  <thead>\n",
       "    <tr style=\"text-align: right;\">\n",
       "      <th></th>\n",
       "      <th>votes</th>\n",
       "    </tr>\n",
       "    <tr>\n",
       "      <th>location</th>\n",
       "      <th></th>\n",
       "    </tr>\n",
       "  </thead>\n",
       "  <tbody>\n",
       "    <tr>\n",
       "      <th>Koramangala 5th Block</th>\n",
       "      <td>2203218</td>\n",
       "    </tr>\n",
       "    <tr>\n",
       "      <th>Indiranagar</th>\n",
       "      <td>1155387</td>\n",
       "    </tr>\n",
       "    <tr>\n",
       "      <th>Koramangala 4th Block</th>\n",
       "      <td>680907</td>\n",
       "    </tr>\n",
       "    <tr>\n",
       "      <th>Church Street</th>\n",
       "      <td>589803</td>\n",
       "    </tr>\n",
       "    <tr>\n",
       "      <th>JP Nagar</th>\n",
       "      <td>558680</td>\n",
       "    </tr>\n",
       "  </tbody>\n",
       "</table>\n",
       "</div>"
      ],
      "text/plain": [
       "                         votes\n",
       "location                      \n",
       "Koramangala 5th Block  2203218\n",
       "Indiranagar            1155387\n",
       "Koramangala 4th Block   680907\n",
       "Church Street           589803\n",
       "JP Nagar                558680"
      ]
     },
     "execution_count": 49,
     "metadata": {},
     "output_type": "execute_result"
    }
   ],
   "source": [
    "df = data[['location','votes']]\n",
    "df.drop_duplicates()\n",
    "df1 = df.groupby(['location'])['votes'].sum()\n",
    "df1 = df1.to_frame()\n",
    "df1 = df1.sort_values('votes',ascending = False)\n",
    "df1.head()"
   ]
  },
  {
   "cell_type": "code",
   "execution_count": 50,
   "id": "11a59f3f",
   "metadata": {
    "execution": {
     "iopub.execute_input": "2022-09-17T06:57:42.652540Z",
     "iopub.status.busy": "2022-09-17T06:57:42.651505Z",
     "iopub.status.idle": "2022-09-17T06:57:44.112610Z",
     "shell.execute_reply": "2022-09-17T06:57:44.111309Z"
    },
    "papermill": {
     "duration": 1.489297,
     "end_time": "2022-09-17T06:57:44.115497",
     "exception": false,
     "start_time": "2022-09-17T06:57:42.626200",
     "status": "completed"
    },
    "tags": []
   },
   "outputs": [
    {
     "name": "stderr",
     "output_type": "stream",
     "text": [
      "/opt/conda/lib/python3.7/site-packages/seaborn/_decorators.py:43: FutureWarning: Pass the following variables as keyword args: x, y. From version 0.12, the only valid positional argument will be `data`, and passing other arguments without an explicit keyword will result in an error or misinterpretation.\n",
      "  FutureWarning\n"
     ]
    },
    {
     "data": {
      "image/png": "[encoded data removed]",
      "text/plain": [
       "<Figure size 1080x576 with 1 Axes>"
      ]
     },
     "metadata": {
      "needs_background": "light"
     },
     "output_type": "display_data"
    }
   ],
   "source": [
    "plt.figure(figsize=(15,8))\n",
    "sns.barplot(df1.index,df1['votes'])\n",
    "plt.xticks(rotation='90')\n",
    "plt.show()"
   ]
  },
  {
   "cell_type": "code",
   "execution_count": 51,
   "id": "210be10d",
   "metadata": {
    "execution": {
     "iopub.execute_input": "2022-09-17T06:57:44.168449Z",
     "iopub.status.busy": "2022-09-17T06:57:44.168012Z",
     "iopub.status.idle": "2022-09-17T06:57:46.004754Z",
     "shell.execute_reply": "2022-09-17T06:57:46.003548Z"
    },
    "papermill": {
     "duration": 1.865637,
     "end_time": "2022-09-17T06:57:46.007481",
     "exception": false,
     "start_time": "2022-09-17T06:57:44.141844",
     "status": "completed"
    },
    "tags": []
   },
   "outputs": [
    {
     "data": {
      "text/plain": [
       "(array([   0., 2500., 5000.]), [])"
      ]
     },
     "execution_count": 51,
     "metadata": {},
     "output_type": "execute_result"
    },
    {
     "data": {
      "text/plain": [
       "<Figure size 1080x576 with 0 Axes>"
      ]
     },
     "metadata": {},
     "output_type": "display_data"
    },
    {
     "data": {
      "image/png": "[encoded data removed]",
      "text/plain": [
       "<Figure size 432x432 with 3 Axes>"
      ]
     },
     "metadata": {
      "needs_background": "light"
     },
     "output_type": "display_data"
    }
   ],
   "source": [
    "plt.figure(figsize=(15,8))\n",
    "sns.jointplot(x='type', y='votes', data=data)\n",
    "plt.xticks(rotation='90')"
   ]
  },
  {
   "cell_type": "code",
   "execution_count": 52,
   "id": "54e7c624",
   "metadata": {
    "execution": {
     "iopub.execute_input": "2022-09-17T06:57:46.060804Z",
     "iopub.status.busy": "2022-09-17T06:57:46.060406Z",
     "iopub.status.idle": "2022-09-17T06:57:46.529774Z",
     "shell.execute_reply": "2022-09-17T06:57:46.528599Z"
    },
    "papermill": {
     "duration": 0.499119,
     "end_time": "2022-09-17T06:57:46.532336",
     "exception": false,
     "start_time": "2022-09-17T06:57:46.033217",
     "status": "completed"
    },
    "tags": []
   },
   "outputs": [
    {
     "name": "stderr",
     "output_type": "stream",
     "text": [
      "/opt/conda/lib/python3.7/site-packages/seaborn/distributions.py:2619: FutureWarning: `distplot` is a deprecated function and will be removed in a future version. Please adapt your code to use either `displot` (a figure-level function with similar flexibility) or `histplot` (an axes-level function for histograms).\n",
      "  warnings.warn(msg, FutureWarning)\n"
     ]
    },
    {
     "data": {
      "image/png": "[encoded data removed]",
      "text/plain": [
       "<Figure size 432x288 with 1 Axes>"
      ]
     },
     "metadata": {
      "needs_background": "light"
     },
     "output_type": "display_data"
    }
   ],
   "source": [
    "sns.distplot(data['price(for two people)'])\n",
    "plt.show()"
   ]
  },
  {
   "cell_type": "code",
   "execution_count": null,
   "id": "fbbeaca8",
   "metadata": {
    "papermill": {
     "duration": 0.026282,
     "end_time": "2022-09-17T06:57:46.585012",
     "exception": false,
     "start_time": "2022-09-17T06:57:46.558730",
     "status": "completed"
    },
    "tags": []
   },
   "outputs": [],
   "source": []
  },
  {
   "cell_type": "code",
   "execution_count": 53,
   "id": "04744698",
   "metadata": {
    "execution": {
     "iopub.execute_input": "2022-09-17T06:57:46.639936Z",
     "iopub.status.busy": "2022-09-17T06:57:46.639538Z",
     "iopub.status.idle": "2022-09-17T06:57:48.058279Z",
     "shell.execute_reply": "2022-09-17T06:57:48.057322Z"
    },
    "papermill": {
     "duration": 1.448917,
     "end_time": "2022-09-17T06:57:48.060670",
     "exception": false,
     "start_time": "2022-09-17T06:57:46.611753",
     "status": "completed"
    },
    "tags": []
   },
   "outputs": [
    {
     "data": {
      "image/png": "[encoded data removed]",
      "text/plain": [
       "<Figure size 1080x576 with 1 Axes>"
      ]
     },
     "metadata": {
      "needs_background": "light"
     },
     "output_type": "display_data"
    }
   ],
   "source": [
    "plt.figure(figsize=(15,8))\n",
    "sns.rugplot(data=data)\n",
    "plt.show()"
   ]
  }
 ],
 "metadata": {
  "kernelspec": {
   "display_name": "Python 3",
   "language": "python",
   "name": "python3"
  },
  "language_info": {
   "codemirror_mode": {
    "name": "ipython",
    "version": 3
   },
   "file_extension": ".py",
   "mimetype": "text/x-python",
   "name": "python",
   "nbconvert_exporter": "python",
   "pygments_lexer": "ipython3",
   "version": "3.7.12"
  },
  "papermill": {
   "default_parameters": {},
   "duration": 47.149282,
   "end_time": "2022-09-17T06:57:48.910217",
   "environment_variables": {},
   "exception": null,
   "input_path": "__notebook__.ipynb",
   "output_path": "__notebook__.ipynb",
   "parameters": {},
   "start_time": "2022-09-17T06:57:01.760935",
   "version": "2.3.4"
  }
 },
 "nbformat": 4,
 "nbformat_minor": 5
}
